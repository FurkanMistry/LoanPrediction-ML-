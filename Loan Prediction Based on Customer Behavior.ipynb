{
  "cells": [
    {
      "cell_type": "markdown",
      "source": [
        "# **Loan Prediction Based on Customer Behavior**"
      ],
      "metadata": {
        "id": "zFrk0GnRUcty"
      }
    },
    {
      "cell_type": "markdown",
      "source": [
        "By Furkan Mistry\n",
        "\n",
        "Roll no - 24\n",
        "\n",
        "UID - 2309032"
      ],
      "metadata": {
        "id": "pVOlHUHK1146"
      }
    },
    {
      "cell_type": "markdown",
      "source": [
        "An organization wants to predict who possible defaulters are for the consumer loans product. They have data about historic customer behavior based on what they have observed. Hence when they acquire new customers they want to predict who is riskier and who is not."
      ],
      "metadata": {
        "id": "4lFI3WZoiq-6"
      }
    },
    {
      "cell_type": "markdown",
      "source": [
        "https://www.kaggle.com/datasets/subhamjain/loan-prediction-based-on-customer-behavior"
      ],
      "metadata": {
        "id": "C1kn8mkeNcIa"
      }
    },
    {
      "cell_type": "markdown",
      "metadata": {
        "id": "wKWKCFWRc82K"
      },
      "source": [
        "About Data\n",
        "*   ID: Id of the user(All Unique)\n",
        "*   Income: Income of the user\n",
        "*   Age: Age of the user\n",
        "* Experience: Professional experience of the user in years\n",
        "* Profession: Profession of the user\n",
        "* Married/Single: Whether married or not\n",
        "* House_Ownership: Owned or rented or neither\n",
        "* Car_Ownership: Does the person own a car\n",
        "* STATE: State of residence\n",
        "* CITY: City of residence\n",
        "* CURRENT_JOB_YRS: Years of experience in the current job\n",
        "* CURRENT_HOUSE_YRS: Number of years in the current residence\\\n",
        "* Risk_Flag: Defaulted on a loan(Target variable)\n",
        "\n",
        "\n"
      ]
    },
    {
      "cell_type": "code",
      "source": [
        "from google.colab import drive\n",
        "drive.mount('/content/drive')"
      ],
      "metadata": {
        "colab": {
          "base_uri": "https://localhost:8080/"
        },
        "id": "eTFdA3_jJw5Z",
        "outputId": "62779bda-01d4-4d9a-dce2-a8edbf64a5fb"
      },
      "execution_count": null,
      "outputs": [
        {
          "output_type": "stream",
          "name": "stdout",
          "text": [
            "Drive already mounted at /content/drive; to attempt to forcibly remount, call drive.mount(\"/content/drive\", force_remount=True).\n"
          ]
        }
      ]
    },
    {
      "cell_type": "markdown",
      "source": [
        "In this Colab notebook, we'll be working with two CSV files: train.csv and test csv, containing our training and testing data, respectively. Our goal is to combine these datasets into a single dataframe, perform various transformations, preprocessing steps, and encoding, and then split the combined dataset into training and testing sets."
      ],
      "metadata": {
        "id": "P18QCbDYHEKt"
      }
    },
    {
      "cell_type": "code",
      "execution_count": null,
      "metadata": {
        "colab": {
          "base_uri": "https://localhost:8080/",
          "height": 226
        },
        "id": "P8XPhw-jul-6",
        "outputId": "fcbcf33d-8981-42fa-d93a-cc2da5c51151"
      },
      "outputs": [
        {
          "output_type": "execute_result",
          "data": {
            "text/plain": [
              "   Id   Income  Age  Experience Married/Single House_Ownership Car_Ownership  \\\n",
              "0   1  1303834   23           3         single          rented            no   \n",
              "1   2  7574516   40          10         single          rented            no   \n",
              "2   3  3991815   66           4        married          rented            no   \n",
              "3   4  6256451   41           2         single          rented           yes   \n",
              "4   5  5768871   47          11         single          rented            no   \n",
              "\n",
              "            Profession                 CITY           STATE  CURRENT_JOB_YRS  \\\n",
              "0  Mechanical_engineer                 Rewa  Madhya_Pradesh                3   \n",
              "1   Software_Developer             Parbhani     Maharashtra                9   \n",
              "2     Technical_writer            Alappuzha          Kerala                4   \n",
              "3   Software_Developer          Bhubaneswar          Odisha                2   \n",
              "4        Civil_servant  Tiruchirappalli[10]      Tamil_Nadu                3   \n",
              "\n",
              "   CURRENT_HOUSE_YRS  Risk_Flag  \n",
              "0                 13          0  \n",
              "1                 13          0  \n",
              "2                 10          0  \n",
              "3                 12          1  \n",
              "4                 14          1  "
            ],
            "text/html": [
              "\n",
              "  <div id=\"df-2457cdfc-f41e-43fe-a803-7f6845a1771c\" class=\"colab-df-container\">\n",
              "    <div>\n",
              "<style scoped>\n",
              "    .dataframe tbody tr th:only-of-type {\n",
              "        vertical-align: middle;\n",
              "    }\n",
              "\n",
              "    .dataframe tbody tr th {\n",
              "        vertical-align: top;\n",
              "    }\n",
              "\n",
              "    .dataframe thead th {\n",
              "        text-align: right;\n",
              "    }\n",
              "</style>\n",
              "<table border=\"1\" class=\"dataframe\">\n",
              "  <thead>\n",
              "    <tr style=\"text-align: right;\">\n",
              "      <th></th>\n",
              "      <th>Id</th>\n",
              "      <th>Income</th>\n",
              "      <th>Age</th>\n",
              "      <th>Experience</th>\n",
              "      <th>Married/Single</th>\n",
              "      <th>House_Ownership</th>\n",
              "      <th>Car_Ownership</th>\n",
              "      <th>Profession</th>\n",
              "      <th>CITY</th>\n",
              "      <th>STATE</th>\n",
              "      <th>CURRENT_JOB_YRS</th>\n",
              "      <th>CURRENT_HOUSE_YRS</th>\n",
              "      <th>Risk_Flag</th>\n",
              "    </tr>\n",
              "  </thead>\n",
              "  <tbody>\n",
              "    <tr>\n",
              "      <th>0</th>\n",
              "      <td>1</td>\n",
              "      <td>1303834</td>\n",
              "      <td>23</td>\n",
              "      <td>3</td>\n",
              "      <td>single</td>\n",
              "      <td>rented</td>\n",
              "      <td>no</td>\n",
              "      <td>Mechanical_engineer</td>\n",
              "      <td>Rewa</td>\n",
              "      <td>Madhya_Pradesh</td>\n",
              "      <td>3</td>\n",
              "      <td>13</td>\n",
              "      <td>0</td>\n",
              "    </tr>\n",
              "    <tr>\n",
              "      <th>1</th>\n",
              "      <td>2</td>\n",
              "      <td>7574516</td>\n",
              "      <td>40</td>\n",
              "      <td>10</td>\n",
              "      <td>single</td>\n",
              "      <td>rented</td>\n",
              "      <td>no</td>\n",
              "      <td>Software_Developer</td>\n",
              "      <td>Parbhani</td>\n",
              "      <td>Maharashtra</td>\n",
              "      <td>9</td>\n",
              "      <td>13</td>\n",
              "      <td>0</td>\n",
              "    </tr>\n",
              "    <tr>\n",
              "      <th>2</th>\n",
              "      <td>3</td>\n",
              "      <td>3991815</td>\n",
              "      <td>66</td>\n",
              "      <td>4</td>\n",
              "      <td>married</td>\n",
              "      <td>rented</td>\n",
              "      <td>no</td>\n",
              "      <td>Technical_writer</td>\n",
              "      <td>Alappuzha</td>\n",
              "      <td>Kerala</td>\n",
              "      <td>4</td>\n",
              "      <td>10</td>\n",
              "      <td>0</td>\n",
              "    </tr>\n",
              "    <tr>\n",
              "      <th>3</th>\n",
              "      <td>4</td>\n",
              "      <td>6256451</td>\n",
              "      <td>41</td>\n",
              "      <td>2</td>\n",
              "      <td>single</td>\n",
              "      <td>rented</td>\n",
              "      <td>yes</td>\n",
              "      <td>Software_Developer</td>\n",
              "      <td>Bhubaneswar</td>\n",
              "      <td>Odisha</td>\n",
              "      <td>2</td>\n",
              "      <td>12</td>\n",
              "      <td>1</td>\n",
              "    </tr>\n",
              "    <tr>\n",
              "      <th>4</th>\n",
              "      <td>5</td>\n",
              "      <td>5768871</td>\n",
              "      <td>47</td>\n",
              "      <td>11</td>\n",
              "      <td>single</td>\n",
              "      <td>rented</td>\n",
              "      <td>no</td>\n",
              "      <td>Civil_servant</td>\n",
              "      <td>Tiruchirappalli[10]</td>\n",
              "      <td>Tamil_Nadu</td>\n",
              "      <td>3</td>\n",
              "      <td>14</td>\n",
              "      <td>1</td>\n",
              "    </tr>\n",
              "  </tbody>\n",
              "</table>\n",
              "</div>\n",
              "    <div class=\"colab-df-buttons\">\n",
              "\n",
              "  <div class=\"colab-df-container\">\n",
              "    <button class=\"colab-df-convert\" onclick=\"convertToInteractive('df-2457cdfc-f41e-43fe-a803-7f6845a1771c')\"\n",
              "            title=\"Convert this dataframe to an interactive table.\"\n",
              "            style=\"display:none;\">\n",
              "\n",
              "  <svg xmlns=\"http://www.w3.org/2000/svg\" height=\"24px\" viewBox=\"0 -960 960 960\">\n",
              "    <path d=\"M120-120v-720h720v720H120Zm60-500h600v-160H180v160Zm220 220h160v-160H400v160Zm0 220h160v-160H400v160ZM180-400h160v-160H180v160Zm440 0h160v-160H620v160ZM180-180h160v-160H180v160Zm440 0h160v-160H620v160Z\"/>\n",
              "  </svg>\n",
              "    </button>\n",
              "\n",
              "  <style>\n",
              "    .colab-df-container {\n",
              "      display:flex;\n",
              "      gap: 12px;\n",
              "    }\n",
              "\n",
              "    .colab-df-convert {\n",
              "      background-color: #E8F0FE;\n",
              "      border: none;\n",
              "      border-radius: 50%;\n",
              "      cursor: pointer;\n",
              "      display: none;\n",
              "      fill: #1967D2;\n",
              "      height: 32px;\n",
              "      padding: 0 0 0 0;\n",
              "      width: 32px;\n",
              "    }\n",
              "\n",
              "    .colab-df-convert:hover {\n",
              "      background-color: #E2EBFA;\n",
              "      box-shadow: 0px 1px 2px rgba(60, 64, 67, 0.3), 0px 1px 3px 1px rgba(60, 64, 67, 0.15);\n",
              "      fill: #174EA6;\n",
              "    }\n",
              "\n",
              "    .colab-df-buttons div {\n",
              "      margin-bottom: 4px;\n",
              "    }\n",
              "\n",
              "    [theme=dark] .colab-df-convert {\n",
              "      background-color: #3B4455;\n",
              "      fill: #D2E3FC;\n",
              "    }\n",
              "\n",
              "    [theme=dark] .colab-df-convert:hover {\n",
              "      background-color: #434B5C;\n",
              "      box-shadow: 0px 1px 3px 1px rgba(0, 0, 0, 0.15);\n",
              "      filter: drop-shadow(0px 1px 2px rgba(0, 0, 0, 0.3));\n",
              "      fill: #FFFFFF;\n",
              "    }\n",
              "  </style>\n",
              "\n",
              "    <script>\n",
              "      const buttonEl =\n",
              "        document.querySelector('#df-2457cdfc-f41e-43fe-a803-7f6845a1771c button.colab-df-convert');\n",
              "      buttonEl.style.display =\n",
              "        google.colab.kernel.accessAllowed ? 'block' : 'none';\n",
              "\n",
              "      async function convertToInteractive(key) {\n",
              "        const element = document.querySelector('#df-2457cdfc-f41e-43fe-a803-7f6845a1771c');\n",
              "        const dataTable =\n",
              "          await google.colab.kernel.invokeFunction('convertToInteractive',\n",
              "                                                    [key], {});\n",
              "        if (!dataTable) return;\n",
              "\n",
              "        const docLinkHtml = 'Like what you see? Visit the ' +\n",
              "          '<a target=\"_blank\" href=https://colab.research.google.com/notebooks/data_table.ipynb>data table notebook</a>'\n",
              "          + ' to learn more about interactive tables.';\n",
              "        element.innerHTML = '';\n",
              "        dataTable['output_type'] = 'display_data';\n",
              "        await google.colab.output.renderOutput(dataTable, element);\n",
              "        const docLink = document.createElement('div');\n",
              "        docLink.innerHTML = docLinkHtml;\n",
              "        element.appendChild(docLink);\n",
              "      }\n",
              "    </script>\n",
              "  </div>\n",
              "\n",
              "\n",
              "<div id=\"df-adfa5115-0523-41ed-a4fb-e02bc28fba36\">\n",
              "  <button class=\"colab-df-quickchart\" onclick=\"quickchart('df-adfa5115-0523-41ed-a4fb-e02bc28fba36')\"\n",
              "            title=\"Suggest charts\"\n",
              "            style=\"display:none;\">\n",
              "\n",
              "<svg xmlns=\"http://www.w3.org/2000/svg\" height=\"24px\"viewBox=\"0 0 24 24\"\n",
              "     width=\"24px\">\n",
              "    <g>\n",
              "        <path d=\"M19 3H5c-1.1 0-2 .9-2 2v14c0 1.1.9 2 2 2h14c1.1 0 2-.9 2-2V5c0-1.1-.9-2-2-2zM9 17H7v-7h2v7zm4 0h-2V7h2v10zm4 0h-2v-4h2v4z\"/>\n",
              "    </g>\n",
              "</svg>\n",
              "  </button>\n",
              "\n",
              "<style>\n",
              "  .colab-df-quickchart {\n",
              "      --bg-color: #E8F0FE;\n",
              "      --fill-color: #1967D2;\n",
              "      --hover-bg-color: #E2EBFA;\n",
              "      --hover-fill-color: #174EA6;\n",
              "      --disabled-fill-color: #AAA;\n",
              "      --disabled-bg-color: #DDD;\n",
              "  }\n",
              "\n",
              "  [theme=dark] .colab-df-quickchart {\n",
              "      --bg-color: #3B4455;\n",
              "      --fill-color: #D2E3FC;\n",
              "      --hover-bg-color: #434B5C;\n",
              "      --hover-fill-color: #FFFFFF;\n",
              "      --disabled-bg-color: #3B4455;\n",
              "      --disabled-fill-color: #666;\n",
              "  }\n",
              "\n",
              "  .colab-df-quickchart {\n",
              "    background-color: var(--bg-color);\n",
              "    border: none;\n",
              "    border-radius: 50%;\n",
              "    cursor: pointer;\n",
              "    display: none;\n",
              "    fill: var(--fill-color);\n",
              "    height: 32px;\n",
              "    padding: 0;\n",
              "    width: 32px;\n",
              "  }\n",
              "\n",
              "  .colab-df-quickchart:hover {\n",
              "    background-color: var(--hover-bg-color);\n",
              "    box-shadow: 0 1px 2px rgba(60, 64, 67, 0.3), 0 1px 3px 1px rgba(60, 64, 67, 0.15);\n",
              "    fill: var(--button-hover-fill-color);\n",
              "  }\n",
              "\n",
              "  .colab-df-quickchart-complete:disabled,\n",
              "  .colab-df-quickchart-complete:disabled:hover {\n",
              "    background-color: var(--disabled-bg-color);\n",
              "    fill: var(--disabled-fill-color);\n",
              "    box-shadow: none;\n",
              "  }\n",
              "\n",
              "  .colab-df-spinner {\n",
              "    border: 2px solid var(--fill-color);\n",
              "    border-color: transparent;\n",
              "    border-bottom-color: var(--fill-color);\n",
              "    animation:\n",
              "      spin 1s steps(1) infinite;\n",
              "  }\n",
              "\n",
              "  @keyframes spin {\n",
              "    0% {\n",
              "      border-color: transparent;\n",
              "      border-bottom-color: var(--fill-color);\n",
              "      border-left-color: var(--fill-color);\n",
              "    }\n",
              "    20% {\n",
              "      border-color: transparent;\n",
              "      border-left-color: var(--fill-color);\n",
              "      border-top-color: var(--fill-color);\n",
              "    }\n",
              "    30% {\n",
              "      border-color: transparent;\n",
              "      border-left-color: var(--fill-color);\n",
              "      border-top-color: var(--fill-color);\n",
              "      border-right-color: var(--fill-color);\n",
              "    }\n",
              "    40% {\n",
              "      border-color: transparent;\n",
              "      border-right-color: var(--fill-color);\n",
              "      border-top-color: var(--fill-color);\n",
              "    }\n",
              "    60% {\n",
              "      border-color: transparent;\n",
              "      border-right-color: var(--fill-color);\n",
              "    }\n",
              "    80% {\n",
              "      border-color: transparent;\n",
              "      border-right-color: var(--fill-color);\n",
              "      border-bottom-color: var(--fill-color);\n",
              "    }\n",
              "    90% {\n",
              "      border-color: transparent;\n",
              "      border-bottom-color: var(--fill-color);\n",
              "    }\n",
              "  }\n",
              "</style>\n",
              "\n",
              "  <script>\n",
              "    async function quickchart(key) {\n",
              "      const quickchartButtonEl =\n",
              "        document.querySelector('#' + key + ' button');\n",
              "      quickchartButtonEl.disabled = true;  // To prevent multiple clicks.\n",
              "      quickchartButtonEl.classList.add('colab-df-spinner');\n",
              "      try {\n",
              "        const charts = await google.colab.kernel.invokeFunction(\n",
              "            'suggestCharts', [key], {});\n",
              "      } catch (error) {\n",
              "        console.error('Error during call to suggestCharts:', error);\n",
              "      }\n",
              "      quickchartButtonEl.classList.remove('colab-df-spinner');\n",
              "      quickchartButtonEl.classList.add('colab-df-quickchart-complete');\n",
              "    }\n",
              "    (() => {\n",
              "      let quickchartButtonEl =\n",
              "        document.querySelector('#df-adfa5115-0523-41ed-a4fb-e02bc28fba36 button');\n",
              "      quickchartButtonEl.style.display =\n",
              "        google.colab.kernel.accessAllowed ? 'block' : 'none';\n",
              "    })();\n",
              "  </script>\n",
              "</div>\n",
              "    </div>\n",
              "  </div>\n"
            ],
            "application/vnd.google.colaboratory.intrinsic+json": {
              "type": "dataframe",
              "variable_name": "train_df"
            }
          },
          "metadata": {},
          "execution_count": 4
        }
      ],
      "source": [
        "import pandas as pd\n",
        "\n",
        "train_df = pd.read_csv(\"/content/drive/MyDrive/ML/Training Data.csv\")\n",
        "train_df.head()"
      ]
    },
    {
      "cell_type": "code",
      "execution_count": null,
      "metadata": {
        "colab": {
          "base_uri": "https://localhost:8080/"
        },
        "id": "xw18SaV6ZGlq",
        "outputId": "ea141569-b033-4c66-9aca-b68a5c4d7745"
      },
      "outputs": [
        {
          "output_type": "execute_result",
          "data": {
            "text/plain": [
              "(252000, 13)"
            ]
          },
          "metadata": {},
          "execution_count": 5
        }
      ],
      "source": [
        "train_df.shape"
      ]
    },
    {
      "cell_type": "code",
      "execution_count": null,
      "metadata": {
        "colab": {
          "base_uri": "https://localhost:8080/"
        },
        "id": "jf2ewYJpkO3I",
        "outputId": "38b5faaa-4704-4e2d-f2a1-700ebd106ecf"
      },
      "outputs": [
        {
          "output_type": "execute_result",
          "data": {
            "text/plain": [
              "Id                   0\n",
              "Income               0\n",
              "Age                  0\n",
              "Experience           0\n",
              "Married/Single       0\n",
              "House_Ownership      0\n",
              "Car_Ownership        0\n",
              "Profession           0\n",
              "CITY                 0\n",
              "STATE                0\n",
              "CURRENT_JOB_YRS      0\n",
              "CURRENT_HOUSE_YRS    0\n",
              "Risk_Flag            0\n",
              "dtype: int64"
            ]
          },
          "metadata": {},
          "execution_count": 6
        }
      ],
      "source": [
        "train_df.isnull().sum()"
      ]
    },
    {
      "cell_type": "code",
      "execution_count": null,
      "metadata": {
        "id": "1AVNNTlb0k2F"
      },
      "outputs": [],
      "source": [
        "test_df = pd.read_csv(\"/content/drive/MyDrive/ML/Test Data.csv\")"
      ]
    },
    {
      "cell_type": "code",
      "execution_count": null,
      "metadata": {
        "colab": {
          "base_uri": "https://localhost:8080/"
        },
        "id": "mBl-sAPl0ppH",
        "outputId": "9888a4f8-9b61-46de-fe23-850a9aaf2d66"
      },
      "outputs": [
        {
          "output_type": "execute_result",
          "data": {
            "text/plain": [
              "(28000, 13)"
            ]
          },
          "metadata": {},
          "execution_count": 8
        }
      ],
      "source": [
        "test_df.shape"
      ]
    },
    {
      "cell_type": "code",
      "execution_count": null,
      "metadata": {
        "colab": {
          "base_uri": "https://localhost:8080/"
        },
        "id": "gzOQFOdpkTxM",
        "outputId": "5ced5863-c6c5-40c7-f40e-df6554e6afd8"
      },
      "outputs": [
        {
          "output_type": "execute_result",
          "data": {
            "text/plain": [
              "Id                   0\n",
              "Income               0\n",
              "Age                  0\n",
              "Experience           0\n",
              "Married/Single       0\n",
              "House_Ownership      0\n",
              "Car_Ownership        0\n",
              "Profession           0\n",
              "CITY                 0\n",
              "STATE                0\n",
              "CURRENT_JOB_YRS      0\n",
              "CURRENT_HOUSE_YRS    0\n",
              "Risk_Flag            0\n",
              "dtype: int64"
            ]
          },
          "metadata": {},
          "execution_count": 9
        }
      ],
      "source": [
        "test_df.isnull().sum()"
      ]
    },
    {
      "cell_type": "code",
      "execution_count": null,
      "metadata": {
        "id": "VtdK50gw02a_"
      },
      "outputs": [],
      "source": [
        "df = pd.concat([train_df, test_df], axis=0)"
      ]
    },
    {
      "cell_type": "code",
      "execution_count": null,
      "metadata": {
        "id": "_sMq8RwPpUoh"
      },
      "outputs": [],
      "source": [
        "df.reset_index(drop=True, inplace=True)\n",
        "\n",
        "# Add 1 to the 'SrNo' column to shift the IDs to start from 1\n",
        "df['Id'] = df.index + 1"
      ]
    },
    {
      "cell_type": "code",
      "execution_count": null,
      "metadata": {
        "colab": {
          "base_uri": "https://localhost:8080/",
          "height": 293
        },
        "id": "r8gO-2-apZkR",
        "outputId": "a40e8749-c804-4095-f866-80d4d9206492"
      },
      "outputs": [
        {
          "output_type": "execute_result",
          "data": {
            "text/plain": [
              "            Id   Income  Age  Experience Married/Single House_Ownership  \\\n",
              "279995  279996  9955481   57          13         single          rented   \n",
              "279996  279997  2917765   47           9         single          rented   \n",
              "279997  279998  8082415   24           5         single          rented   \n",
              "279998  279999  9474180   51          13         single          rented   \n",
              "279999  280000  9250350   42           9         single          rented   \n",
              "\n",
              "       Car_Ownership            Profession            CITY           STATE  \\\n",
              "279995            no          Statistician       Eluru[25]  Andhra Pradesh   \n",
              "279996            no      Technical writer          Ratlam  Madhya Pradesh   \n",
              "279997            no                Lawyer  Mira-Bhayandar     Maharashtra   \n",
              "279998           yes  Chartered Accountant          Bhilai    Chhattisgarh   \n",
              "279999            no                  Chef     Navi Mumbai     Maharashtra   \n",
              "\n",
              "        CURRENT_JOB_YRS  CURRENT_HOUSE_YRS  Risk_Flag  \n",
              "279995                5                 10          0  \n",
              "279996                9                 14          1  \n",
              "279997                4                 13          0  \n",
              "279998               13                 14          0  \n",
              "279999                4                 10          0  "
            ],
            "text/html": [
              "\n",
              "  <div id=\"df-52d37240-90bd-43c4-960b-6c7df5f150bd\" class=\"colab-df-container\">\n",
              "    <div>\n",
              "<style scoped>\n",
              "    .dataframe tbody tr th:only-of-type {\n",
              "        vertical-align: middle;\n",
              "    }\n",
              "\n",
              "    .dataframe tbody tr th {\n",
              "        vertical-align: top;\n",
              "    }\n",
              "\n",
              "    .dataframe thead th {\n",
              "        text-align: right;\n",
              "    }\n",
              "</style>\n",
              "<table border=\"1\" class=\"dataframe\">\n",
              "  <thead>\n",
              "    <tr style=\"text-align: right;\">\n",
              "      <th></th>\n",
              "      <th>Id</th>\n",
              "      <th>Income</th>\n",
              "      <th>Age</th>\n",
              "      <th>Experience</th>\n",
              "      <th>Married/Single</th>\n",
              "      <th>House_Ownership</th>\n",
              "      <th>Car_Ownership</th>\n",
              "      <th>Profession</th>\n",
              "      <th>CITY</th>\n",
              "      <th>STATE</th>\n",
              "      <th>CURRENT_JOB_YRS</th>\n",
              "      <th>CURRENT_HOUSE_YRS</th>\n",
              "      <th>Risk_Flag</th>\n",
              "    </tr>\n",
              "  </thead>\n",
              "  <tbody>\n",
              "    <tr>\n",
              "      <th>279995</th>\n",
              "      <td>279996</td>\n",
              "      <td>9955481</td>\n",
              "      <td>57</td>\n",
              "      <td>13</td>\n",
              "      <td>single</td>\n",
              "      <td>rented</td>\n",
              "      <td>no</td>\n",
              "      <td>Statistician</td>\n",
              "      <td>Eluru[25]</td>\n",
              "      <td>Andhra Pradesh</td>\n",
              "      <td>5</td>\n",
              "      <td>10</td>\n",
              "      <td>0</td>\n",
              "    </tr>\n",
              "    <tr>\n",
              "      <th>279996</th>\n",
              "      <td>279997</td>\n",
              "      <td>2917765</td>\n",
              "      <td>47</td>\n",
              "      <td>9</td>\n",
              "      <td>single</td>\n",
              "      <td>rented</td>\n",
              "      <td>no</td>\n",
              "      <td>Technical writer</td>\n",
              "      <td>Ratlam</td>\n",
              "      <td>Madhya Pradesh</td>\n",
              "      <td>9</td>\n",
              "      <td>14</td>\n",
              "      <td>1</td>\n",
              "    </tr>\n",
              "    <tr>\n",
              "      <th>279997</th>\n",
              "      <td>279998</td>\n",
              "      <td>8082415</td>\n",
              "      <td>24</td>\n",
              "      <td>5</td>\n",
              "      <td>single</td>\n",
              "      <td>rented</td>\n",
              "      <td>no</td>\n",
              "      <td>Lawyer</td>\n",
              "      <td>Mira-Bhayandar</td>\n",
              "      <td>Maharashtra</td>\n",
              "      <td>4</td>\n",
              "      <td>13</td>\n",
              "      <td>0</td>\n",
              "    </tr>\n",
              "    <tr>\n",
              "      <th>279998</th>\n",
              "      <td>279999</td>\n",
              "      <td>9474180</td>\n",
              "      <td>51</td>\n",
              "      <td>13</td>\n",
              "      <td>single</td>\n",
              "      <td>rented</td>\n",
              "      <td>yes</td>\n",
              "      <td>Chartered Accountant</td>\n",
              "      <td>Bhilai</td>\n",
              "      <td>Chhattisgarh</td>\n",
              "      <td>13</td>\n",
              "      <td>14</td>\n",
              "      <td>0</td>\n",
              "    </tr>\n",
              "    <tr>\n",
              "      <th>279999</th>\n",
              "      <td>280000</td>\n",
              "      <td>9250350</td>\n",
              "      <td>42</td>\n",
              "      <td>9</td>\n",
              "      <td>single</td>\n",
              "      <td>rented</td>\n",
              "      <td>no</td>\n",
              "      <td>Chef</td>\n",
              "      <td>Navi Mumbai</td>\n",
              "      <td>Maharashtra</td>\n",
              "      <td>4</td>\n",
              "      <td>10</td>\n",
              "      <td>0</td>\n",
              "    </tr>\n",
              "  </tbody>\n",
              "</table>\n",
              "</div>\n",
              "    <div class=\"colab-df-buttons\">\n",
              "\n",
              "  <div class=\"colab-df-container\">\n",
              "    <button class=\"colab-df-convert\" onclick=\"convertToInteractive('df-52d37240-90bd-43c4-960b-6c7df5f150bd')\"\n",
              "            title=\"Convert this dataframe to an interactive table.\"\n",
              "            style=\"display:none;\">\n",
              "\n",
              "  <svg xmlns=\"http://www.w3.org/2000/svg\" height=\"24px\" viewBox=\"0 -960 960 960\">\n",
              "    <path d=\"M120-120v-720h720v720H120Zm60-500h600v-160H180v160Zm220 220h160v-160H400v160Zm0 220h160v-160H400v160ZM180-400h160v-160H180v160Zm440 0h160v-160H620v160ZM180-180h160v-160H180v160Zm440 0h160v-160H620v160Z\"/>\n",
              "  </svg>\n",
              "    </button>\n",
              "\n",
              "  <style>\n",
              "    .colab-df-container {\n",
              "      display:flex;\n",
              "      gap: 12px;\n",
              "    }\n",
              "\n",
              "    .colab-df-convert {\n",
              "      background-color: #E8F0FE;\n",
              "      border: none;\n",
              "      border-radius: 50%;\n",
              "      cursor: pointer;\n",
              "      display: none;\n",
              "      fill: #1967D2;\n",
              "      height: 32px;\n",
              "      padding: 0 0 0 0;\n",
              "      width: 32px;\n",
              "    }\n",
              "\n",
              "    .colab-df-convert:hover {\n",
              "      background-color: #E2EBFA;\n",
              "      box-shadow: 0px 1px 2px rgba(60, 64, 67, 0.3), 0px 1px 3px 1px rgba(60, 64, 67, 0.15);\n",
              "      fill: #174EA6;\n",
              "    }\n",
              "\n",
              "    .colab-df-buttons div {\n",
              "      margin-bottom: 4px;\n",
              "    }\n",
              "\n",
              "    [theme=dark] .colab-df-convert {\n",
              "      background-color: #3B4455;\n",
              "      fill: #D2E3FC;\n",
              "    }\n",
              "\n",
              "    [theme=dark] .colab-df-convert:hover {\n",
              "      background-color: #434B5C;\n",
              "      box-shadow: 0px 1px 3px 1px rgba(0, 0, 0, 0.15);\n",
              "      filter: drop-shadow(0px 1px 2px rgba(0, 0, 0, 0.3));\n",
              "      fill: #FFFFFF;\n",
              "    }\n",
              "  </style>\n",
              "\n",
              "    <script>\n",
              "      const buttonEl =\n",
              "        document.querySelector('#df-52d37240-90bd-43c4-960b-6c7df5f150bd button.colab-df-convert');\n",
              "      buttonEl.style.display =\n",
              "        google.colab.kernel.accessAllowed ? 'block' : 'none';\n",
              "\n",
              "      async function convertToInteractive(key) {\n",
              "        const element = document.querySelector('#df-52d37240-90bd-43c4-960b-6c7df5f150bd');\n",
              "        const dataTable =\n",
              "          await google.colab.kernel.invokeFunction('convertToInteractive',\n",
              "                                                    [key], {});\n",
              "        if (!dataTable) return;\n",
              "\n",
              "        const docLinkHtml = 'Like what you see? Visit the ' +\n",
              "          '<a target=\"_blank\" href=https://colab.research.google.com/notebooks/data_table.ipynb>data table notebook</a>'\n",
              "          + ' to learn more about interactive tables.';\n",
              "        element.innerHTML = '';\n",
              "        dataTable['output_type'] = 'display_data';\n",
              "        await google.colab.output.renderOutput(dataTable, element);\n",
              "        const docLink = document.createElement('div');\n",
              "        docLink.innerHTML = docLinkHtml;\n",
              "        element.appendChild(docLink);\n",
              "      }\n",
              "    </script>\n",
              "  </div>\n",
              "\n",
              "\n",
              "<div id=\"df-026c8c2d-09f3-4e4d-8407-48c46da75fa9\">\n",
              "  <button class=\"colab-df-quickchart\" onclick=\"quickchart('df-026c8c2d-09f3-4e4d-8407-48c46da75fa9')\"\n",
              "            title=\"Suggest charts\"\n",
              "            style=\"display:none;\">\n",
              "\n",
              "<svg xmlns=\"http://www.w3.org/2000/svg\" height=\"24px\"viewBox=\"0 0 24 24\"\n",
              "     width=\"24px\">\n",
              "    <g>\n",
              "        <path d=\"M19 3H5c-1.1 0-2 .9-2 2v14c0 1.1.9 2 2 2h14c1.1 0 2-.9 2-2V5c0-1.1-.9-2-2-2zM9 17H7v-7h2v7zm4 0h-2V7h2v10zm4 0h-2v-4h2v4z\"/>\n",
              "    </g>\n",
              "</svg>\n",
              "  </button>\n",
              "\n",
              "<style>\n",
              "  .colab-df-quickchart {\n",
              "      --bg-color: #E8F0FE;\n",
              "      --fill-color: #1967D2;\n",
              "      --hover-bg-color: #E2EBFA;\n",
              "      --hover-fill-color: #174EA6;\n",
              "      --disabled-fill-color: #AAA;\n",
              "      --disabled-bg-color: #DDD;\n",
              "  }\n",
              "\n",
              "  [theme=dark] .colab-df-quickchart {\n",
              "      --bg-color: #3B4455;\n",
              "      --fill-color: #D2E3FC;\n",
              "      --hover-bg-color: #434B5C;\n",
              "      --hover-fill-color: #FFFFFF;\n",
              "      --disabled-bg-color: #3B4455;\n",
              "      --disabled-fill-color: #666;\n",
              "  }\n",
              "\n",
              "  .colab-df-quickchart {\n",
              "    background-color: var(--bg-color);\n",
              "    border: none;\n",
              "    border-radius: 50%;\n",
              "    cursor: pointer;\n",
              "    display: none;\n",
              "    fill: var(--fill-color);\n",
              "    height: 32px;\n",
              "    padding: 0;\n",
              "    width: 32px;\n",
              "  }\n",
              "\n",
              "  .colab-df-quickchart:hover {\n",
              "    background-color: var(--hover-bg-color);\n",
              "    box-shadow: 0 1px 2px rgba(60, 64, 67, 0.3), 0 1px 3px 1px rgba(60, 64, 67, 0.15);\n",
              "    fill: var(--button-hover-fill-color);\n",
              "  }\n",
              "\n",
              "  .colab-df-quickchart-complete:disabled,\n",
              "  .colab-df-quickchart-complete:disabled:hover {\n",
              "    background-color: var(--disabled-bg-color);\n",
              "    fill: var(--disabled-fill-color);\n",
              "    box-shadow: none;\n",
              "  }\n",
              "\n",
              "  .colab-df-spinner {\n",
              "    border: 2px solid var(--fill-color);\n",
              "    border-color: transparent;\n",
              "    border-bottom-color: var(--fill-color);\n",
              "    animation:\n",
              "      spin 1s steps(1) infinite;\n",
              "  }\n",
              "\n",
              "  @keyframes spin {\n",
              "    0% {\n",
              "      border-color: transparent;\n",
              "      border-bottom-color: var(--fill-color);\n",
              "      border-left-color: var(--fill-color);\n",
              "    }\n",
              "    20% {\n",
              "      border-color: transparent;\n",
              "      border-left-color: var(--fill-color);\n",
              "      border-top-color: var(--fill-color);\n",
              "    }\n",
              "    30% {\n",
              "      border-color: transparent;\n",
              "      border-left-color: var(--fill-color);\n",
              "      border-top-color: var(--fill-color);\n",
              "      border-right-color: var(--fill-color);\n",
              "    }\n",
              "    40% {\n",
              "      border-color: transparent;\n",
              "      border-right-color: var(--fill-color);\n",
              "      border-top-color: var(--fill-color);\n",
              "    }\n",
              "    60% {\n",
              "      border-color: transparent;\n",
              "      border-right-color: var(--fill-color);\n",
              "    }\n",
              "    80% {\n",
              "      border-color: transparent;\n",
              "      border-right-color: var(--fill-color);\n",
              "      border-bottom-color: var(--fill-color);\n",
              "    }\n",
              "    90% {\n",
              "      border-color: transparent;\n",
              "      border-bottom-color: var(--fill-color);\n",
              "    }\n",
              "  }\n",
              "</style>\n",
              "\n",
              "  <script>\n",
              "    async function quickchart(key) {\n",
              "      const quickchartButtonEl =\n",
              "        document.querySelector('#' + key + ' button');\n",
              "      quickchartButtonEl.disabled = true;  // To prevent multiple clicks.\n",
              "      quickchartButtonEl.classList.add('colab-df-spinner');\n",
              "      try {\n",
              "        const charts = await google.colab.kernel.invokeFunction(\n",
              "            'suggestCharts', [key], {});\n",
              "      } catch (error) {\n",
              "        console.error('Error during call to suggestCharts:', error);\n",
              "      }\n",
              "      quickchartButtonEl.classList.remove('colab-df-spinner');\n",
              "      quickchartButtonEl.classList.add('colab-df-quickchart-complete');\n",
              "    }\n",
              "    (() => {\n",
              "      let quickchartButtonEl =\n",
              "        document.querySelector('#df-026c8c2d-09f3-4e4d-8407-48c46da75fa9 button');\n",
              "      quickchartButtonEl.style.display =\n",
              "        google.colab.kernel.accessAllowed ? 'block' : 'none';\n",
              "    })();\n",
              "  </script>\n",
              "</div>\n",
              "    </div>\n",
              "  </div>\n"
            ],
            "application/vnd.google.colaboratory.intrinsic+json": {
              "type": "dataframe",
              "summary": "{\n  \"name\": \"df\",\n  \"rows\": 5,\n  \"fields\": [\n    {\n      \"column\": \"Id\",\n      \"properties\": {\n        \"dtype\": \"number\",\n        \"std\": 1,\n        \"min\": 279996,\n        \"max\": 280000,\n        \"num_unique_values\": 5,\n        \"samples\": [\n          279997,\n          280000,\n          279998\n        ],\n        \"semantic_type\": \"\",\n        \"description\": \"\"\n      }\n    },\n    {\n      \"column\": \"Income\",\n      \"properties\": {\n        \"dtype\": \"number\",\n        \"std\": 2888595,\n        \"min\": 2917765,\n        \"max\": 9955481,\n        \"num_unique_values\": 5,\n        \"samples\": [\n          2917765,\n          9250350,\n          8082415\n        ],\n        \"semantic_type\": \"\",\n        \"description\": \"\"\n      }\n    },\n    {\n      \"column\": \"Age\",\n      \"properties\": {\n        \"dtype\": \"number\",\n        \"std\": 12,\n        \"min\": 24,\n        \"max\": 57,\n        \"num_unique_values\": 5,\n        \"samples\": [\n          47,\n          42,\n          24\n        ],\n        \"semantic_type\": \"\",\n        \"description\": \"\"\n      }\n    },\n    {\n      \"column\": \"Experience\",\n      \"properties\": {\n        \"dtype\": \"number\",\n        \"std\": 3,\n        \"min\": 5,\n        \"max\": 13,\n        \"num_unique_values\": 3,\n        \"samples\": [\n          13,\n          9,\n          5\n        ],\n        \"semantic_type\": \"\",\n        \"description\": \"\"\n      }\n    },\n    {\n      \"column\": \"Married/Single\",\n      \"properties\": {\n        \"dtype\": \"category\",\n        \"num_unique_values\": 1,\n        \"samples\": [\n          \"single\"\n        ],\n        \"semantic_type\": \"\",\n        \"description\": \"\"\n      }\n    },\n    {\n      \"column\": \"House_Ownership\",\n      \"properties\": {\n        \"dtype\": \"category\",\n        \"num_unique_values\": 1,\n        \"samples\": [\n          \"rented\"\n        ],\n        \"semantic_type\": \"\",\n        \"description\": \"\"\n      }\n    },\n    {\n      \"column\": \"Car_Ownership\",\n      \"properties\": {\n        \"dtype\": \"category\",\n        \"num_unique_values\": 2,\n        \"samples\": [\n          \"yes\"\n        ],\n        \"semantic_type\": \"\",\n        \"description\": \"\"\n      }\n    },\n    {\n      \"column\": \"Profession\",\n      \"properties\": {\n        \"dtype\": \"string\",\n        \"num_unique_values\": 5,\n        \"samples\": [\n          \"Technical writer\"\n        ],\n        \"semantic_type\": \"\",\n        \"description\": \"\"\n      }\n    },\n    {\n      \"column\": \"CITY\",\n      \"properties\": {\n        \"dtype\": \"string\",\n        \"num_unique_values\": 5,\n        \"samples\": [\n          \"Ratlam\"\n        ],\n        \"semantic_type\": \"\",\n        \"description\": \"\"\n      }\n    },\n    {\n      \"column\": \"STATE\",\n      \"properties\": {\n        \"dtype\": \"string\",\n        \"num_unique_values\": 4,\n        \"samples\": [\n          \"Madhya Pradesh\"\n        ],\n        \"semantic_type\": \"\",\n        \"description\": \"\"\n      }\n    },\n    {\n      \"column\": \"CURRENT_JOB_YRS\",\n      \"properties\": {\n        \"dtype\": \"number\",\n        \"std\": 3,\n        \"min\": 4,\n        \"max\": 13,\n        \"num_unique_values\": 4,\n        \"samples\": [\n          9\n        ],\n        \"semantic_type\": \"\",\n        \"description\": \"\"\n      }\n    },\n    {\n      \"column\": \"CURRENT_HOUSE_YRS\",\n      \"properties\": {\n        \"dtype\": \"number\",\n        \"std\": 2,\n        \"min\": 10,\n        \"max\": 14,\n        \"num_unique_values\": 3,\n        \"samples\": [\n          10\n        ],\n        \"semantic_type\": \"\",\n        \"description\": \"\"\n      }\n    },\n    {\n      \"column\": \"Risk_Flag\",\n      \"properties\": {\n        \"dtype\": \"number\",\n        \"std\": 0,\n        \"min\": 0,\n        \"max\": 1,\n        \"num_unique_values\": 2,\n        \"samples\": [\n          1\n        ],\n        \"semantic_type\": \"\",\n        \"description\": \"\"\n      }\n    }\n  ]\n}"
            }
          },
          "metadata": {},
          "execution_count": 12
        }
      ],
      "source": [
        "df.tail()"
      ]
    },
    {
      "cell_type": "code",
      "execution_count": null,
      "metadata": {
        "colab": {
          "base_uri": "https://localhost:8080/",
          "height": 300
        },
        "id": "sU4WrJIHa36o",
        "outputId": "b9d560c2-b678-450f-a747-0407b4be339f"
      },
      "outputs": [
        {
          "output_type": "execute_result",
          "data": {
            "text/plain": [
              "                  Id        Income            Age     Experience  \\\n",
              "count  280000.000000  2.800000e+05  280000.000000  280000.000000   \n",
              "mean   140000.500000  5.000361e+06      49.964132      10.088032   \n",
              "std     80829.182024  2.876988e+06      17.070465       6.005066   \n",
              "min         1.000000  1.031000e+04      21.000000       0.000000   \n",
              "25%     70000.750000  2.506726e+06      35.000000       5.000000   \n",
              "50%    140000.500000  5.003310e+06      50.000000      10.000000   \n",
              "75%    210000.250000  7.477502e+06      65.000000      15.000000   \n",
              "max    280000.000000  9.999938e+06      79.000000      20.000000   \n",
              "\n",
              "       CURRENT_JOB_YRS  CURRENT_HOUSE_YRS      Risk_Flag  \n",
              "count    280000.000000      280000.000000  280000.000000  \n",
              "mean          6.334418          11.997193       0.123532  \n",
              "std           3.646864           1.398907       0.329048  \n",
              "min           0.000000          10.000000       0.000000  \n",
              "25%           3.000000          11.000000       0.000000  \n",
              "50%           6.000000          12.000000       0.000000  \n",
              "75%           9.000000          13.000000       0.000000  \n",
              "max          14.000000          14.000000       1.000000  "
            ],
            "text/html": [
              "\n",
              "  <div id=\"df-a164e18b-aa4f-493e-996b-04d267727ecb\" class=\"colab-df-container\">\n",
              "    <div>\n",
              "<style scoped>\n",
              "    .dataframe tbody tr th:only-of-type {\n",
              "        vertical-align: middle;\n",
              "    }\n",
              "\n",
              "    .dataframe tbody tr th {\n",
              "        vertical-align: top;\n",
              "    }\n",
              "\n",
              "    .dataframe thead th {\n",
              "        text-align: right;\n",
              "    }\n",
              "</style>\n",
              "<table border=\"1\" class=\"dataframe\">\n",
              "  <thead>\n",
              "    <tr style=\"text-align: right;\">\n",
              "      <th></th>\n",
              "      <th>Id</th>\n",
              "      <th>Income</th>\n",
              "      <th>Age</th>\n",
              "      <th>Experience</th>\n",
              "      <th>CURRENT_JOB_YRS</th>\n",
              "      <th>CURRENT_HOUSE_YRS</th>\n",
              "      <th>Risk_Flag</th>\n",
              "    </tr>\n",
              "  </thead>\n",
              "  <tbody>\n",
              "    <tr>\n",
              "      <th>count</th>\n",
              "      <td>280000.000000</td>\n",
              "      <td>2.800000e+05</td>\n",
              "      <td>280000.000000</td>\n",
              "      <td>280000.000000</td>\n",
              "      <td>280000.000000</td>\n",
              "      <td>280000.000000</td>\n",
              "      <td>280000.000000</td>\n",
              "    </tr>\n",
              "    <tr>\n",
              "      <th>mean</th>\n",
              "      <td>140000.500000</td>\n",
              "      <td>5.000361e+06</td>\n",
              "      <td>49.964132</td>\n",
              "      <td>10.088032</td>\n",
              "      <td>6.334418</td>\n",
              "      <td>11.997193</td>\n",
              "      <td>0.123532</td>\n",
              "    </tr>\n",
              "    <tr>\n",
              "      <th>std</th>\n",
              "      <td>80829.182024</td>\n",
              "      <td>2.876988e+06</td>\n",
              "      <td>17.070465</td>\n",
              "      <td>6.005066</td>\n",
              "      <td>3.646864</td>\n",
              "      <td>1.398907</td>\n",
              "      <td>0.329048</td>\n",
              "    </tr>\n",
              "    <tr>\n",
              "      <th>min</th>\n",
              "      <td>1.000000</td>\n",
              "      <td>1.031000e+04</td>\n",
              "      <td>21.000000</td>\n",
              "      <td>0.000000</td>\n",
              "      <td>0.000000</td>\n",
              "      <td>10.000000</td>\n",
              "      <td>0.000000</td>\n",
              "    </tr>\n",
              "    <tr>\n",
              "      <th>25%</th>\n",
              "      <td>70000.750000</td>\n",
              "      <td>2.506726e+06</td>\n",
              "      <td>35.000000</td>\n",
              "      <td>5.000000</td>\n",
              "      <td>3.000000</td>\n",
              "      <td>11.000000</td>\n",
              "      <td>0.000000</td>\n",
              "    </tr>\n",
              "    <tr>\n",
              "      <th>50%</th>\n",
              "      <td>140000.500000</td>\n",
              "      <td>5.003310e+06</td>\n",
              "      <td>50.000000</td>\n",
              "      <td>10.000000</td>\n",
              "      <td>6.000000</td>\n",
              "      <td>12.000000</td>\n",
              "      <td>0.000000</td>\n",
              "    </tr>\n",
              "    <tr>\n",
              "      <th>75%</th>\n",
              "      <td>210000.250000</td>\n",
              "      <td>7.477502e+06</td>\n",
              "      <td>65.000000</td>\n",
              "      <td>15.000000</td>\n",
              "      <td>9.000000</td>\n",
              "      <td>13.000000</td>\n",
              "      <td>0.000000</td>\n",
              "    </tr>\n",
              "    <tr>\n",
              "      <th>max</th>\n",
              "      <td>280000.000000</td>\n",
              "      <td>9.999938e+06</td>\n",
              "      <td>79.000000</td>\n",
              "      <td>20.000000</td>\n",
              "      <td>14.000000</td>\n",
              "      <td>14.000000</td>\n",
              "      <td>1.000000</td>\n",
              "    </tr>\n",
              "  </tbody>\n",
              "</table>\n",
              "</div>\n",
              "    <div class=\"colab-df-buttons\">\n",
              "\n",
              "  <div class=\"colab-df-container\">\n",
              "    <button class=\"colab-df-convert\" onclick=\"convertToInteractive('df-a164e18b-aa4f-493e-996b-04d267727ecb')\"\n",
              "            title=\"Convert this dataframe to an interactive table.\"\n",
              "            style=\"display:none;\">\n",
              "\n",
              "  <svg xmlns=\"http://www.w3.org/2000/svg\" height=\"24px\" viewBox=\"0 -960 960 960\">\n",
              "    <path d=\"M120-120v-720h720v720H120Zm60-500h600v-160H180v160Zm220 220h160v-160H400v160Zm0 220h160v-160H400v160ZM180-400h160v-160H180v160Zm440 0h160v-160H620v160ZM180-180h160v-160H180v160Zm440 0h160v-160H620v160Z\"/>\n",
              "  </svg>\n",
              "    </button>\n",
              "\n",
              "  <style>\n",
              "    .colab-df-container {\n",
              "      display:flex;\n",
              "      gap: 12px;\n",
              "    }\n",
              "\n",
              "    .colab-df-convert {\n",
              "      background-color: #E8F0FE;\n",
              "      border: none;\n",
              "      border-radius: 50%;\n",
              "      cursor: pointer;\n",
              "      display: none;\n",
              "      fill: #1967D2;\n",
              "      height: 32px;\n",
              "      padding: 0 0 0 0;\n",
              "      width: 32px;\n",
              "    }\n",
              "\n",
              "    .colab-df-convert:hover {\n",
              "      background-color: #E2EBFA;\n",
              "      box-shadow: 0px 1px 2px rgba(60, 64, 67, 0.3), 0px 1px 3px 1px rgba(60, 64, 67, 0.15);\n",
              "      fill: #174EA6;\n",
              "    }\n",
              "\n",
              "    .colab-df-buttons div {\n",
              "      margin-bottom: 4px;\n",
              "    }\n",
              "\n",
              "    [theme=dark] .colab-df-convert {\n",
              "      background-color: #3B4455;\n",
              "      fill: #D2E3FC;\n",
              "    }\n",
              "\n",
              "    [theme=dark] .colab-df-convert:hover {\n",
              "      background-color: #434B5C;\n",
              "      box-shadow: 0px 1px 3px 1px rgba(0, 0, 0, 0.15);\n",
              "      filter: drop-shadow(0px 1px 2px rgba(0, 0, 0, 0.3));\n",
              "      fill: #FFFFFF;\n",
              "    }\n",
              "  </style>\n",
              "\n",
              "    <script>\n",
              "      const buttonEl =\n",
              "        document.querySelector('#df-a164e18b-aa4f-493e-996b-04d267727ecb button.colab-df-convert');\n",
              "      buttonEl.style.display =\n",
              "        google.colab.kernel.accessAllowed ? 'block' : 'none';\n",
              "\n",
              "      async function convertToInteractive(key) {\n",
              "        const element = document.querySelector('#df-a164e18b-aa4f-493e-996b-04d267727ecb');\n",
              "        const dataTable =\n",
              "          await google.colab.kernel.invokeFunction('convertToInteractive',\n",
              "                                                    [key], {});\n",
              "        if (!dataTable) return;\n",
              "\n",
              "        const docLinkHtml = 'Like what you see? Visit the ' +\n",
              "          '<a target=\"_blank\" href=https://colab.research.google.com/notebooks/data_table.ipynb>data table notebook</a>'\n",
              "          + ' to learn more about interactive tables.';\n",
              "        element.innerHTML = '';\n",
              "        dataTable['output_type'] = 'display_data';\n",
              "        await google.colab.output.renderOutput(dataTable, element);\n",
              "        const docLink = document.createElement('div');\n",
              "        docLink.innerHTML = docLinkHtml;\n",
              "        element.appendChild(docLink);\n",
              "      }\n",
              "    </script>\n",
              "  </div>\n",
              "\n",
              "\n",
              "<div id=\"df-a74328b5-72e6-406d-955a-b4857ea27313\">\n",
              "  <button class=\"colab-df-quickchart\" onclick=\"quickchart('df-a74328b5-72e6-406d-955a-b4857ea27313')\"\n",
              "            title=\"Suggest charts\"\n",
              "            style=\"display:none;\">\n",
              "\n",
              "<svg xmlns=\"http://www.w3.org/2000/svg\" height=\"24px\"viewBox=\"0 0 24 24\"\n",
              "     width=\"24px\">\n",
              "    <g>\n",
              "        <path d=\"M19 3H5c-1.1 0-2 .9-2 2v14c0 1.1.9 2 2 2h14c1.1 0 2-.9 2-2V5c0-1.1-.9-2-2-2zM9 17H7v-7h2v7zm4 0h-2V7h2v10zm4 0h-2v-4h2v4z\"/>\n",
              "    </g>\n",
              "</svg>\n",
              "  </button>\n",
              "\n",
              "<style>\n",
              "  .colab-df-quickchart {\n",
              "      --bg-color: #E8F0FE;\n",
              "      --fill-color: #1967D2;\n",
              "      --hover-bg-color: #E2EBFA;\n",
              "      --hover-fill-color: #174EA6;\n",
              "      --disabled-fill-color: #AAA;\n",
              "      --disabled-bg-color: #DDD;\n",
              "  }\n",
              "\n",
              "  [theme=dark] .colab-df-quickchart {\n",
              "      --bg-color: #3B4455;\n",
              "      --fill-color: #D2E3FC;\n",
              "      --hover-bg-color: #434B5C;\n",
              "      --hover-fill-color: #FFFFFF;\n",
              "      --disabled-bg-color: #3B4455;\n",
              "      --disabled-fill-color: #666;\n",
              "  }\n",
              "\n",
              "  .colab-df-quickchart {\n",
              "    background-color: var(--bg-color);\n",
              "    border: none;\n",
              "    border-radius: 50%;\n",
              "    cursor: pointer;\n",
              "    display: none;\n",
              "    fill: var(--fill-color);\n",
              "    height: 32px;\n",
              "    padding: 0;\n",
              "    width: 32px;\n",
              "  }\n",
              "\n",
              "  .colab-df-quickchart:hover {\n",
              "    background-color: var(--hover-bg-color);\n",
              "    box-shadow: 0 1px 2px rgba(60, 64, 67, 0.3), 0 1px 3px 1px rgba(60, 64, 67, 0.15);\n",
              "    fill: var(--button-hover-fill-color);\n",
              "  }\n",
              "\n",
              "  .colab-df-quickchart-complete:disabled,\n",
              "  .colab-df-quickchart-complete:disabled:hover {\n",
              "    background-color: var(--disabled-bg-color);\n",
              "    fill: var(--disabled-fill-color);\n",
              "    box-shadow: none;\n",
              "  }\n",
              "\n",
              "  .colab-df-spinner {\n",
              "    border: 2px solid var(--fill-color);\n",
              "    border-color: transparent;\n",
              "    border-bottom-color: var(--fill-color);\n",
              "    animation:\n",
              "      spin 1s steps(1) infinite;\n",
              "  }\n",
              "\n",
              "  @keyframes spin {\n",
              "    0% {\n",
              "      border-color: transparent;\n",
              "      border-bottom-color: var(--fill-color);\n",
              "      border-left-color: var(--fill-color);\n",
              "    }\n",
              "    20% {\n",
              "      border-color: transparent;\n",
              "      border-left-color: var(--fill-color);\n",
              "      border-top-color: var(--fill-color);\n",
              "    }\n",
              "    30% {\n",
              "      border-color: transparent;\n",
              "      border-left-color: var(--fill-color);\n",
              "      border-top-color: var(--fill-color);\n",
              "      border-right-color: var(--fill-color);\n",
              "    }\n",
              "    40% {\n",
              "      border-color: transparent;\n",
              "      border-right-color: var(--fill-color);\n",
              "      border-top-color: var(--fill-color);\n",
              "    }\n",
              "    60% {\n",
              "      border-color: transparent;\n",
              "      border-right-color: var(--fill-color);\n",
              "    }\n",
              "    80% {\n",
              "      border-color: transparent;\n",
              "      border-right-color: var(--fill-color);\n",
              "      border-bottom-color: var(--fill-color);\n",
              "    }\n",
              "    90% {\n",
              "      border-color: transparent;\n",
              "      border-bottom-color: var(--fill-color);\n",
              "    }\n",
              "  }\n",
              "</style>\n",
              "\n",
              "  <script>\n",
              "    async function quickchart(key) {\n",
              "      const quickchartButtonEl =\n",
              "        document.querySelector('#' + key + ' button');\n",
              "      quickchartButtonEl.disabled = true;  // To prevent multiple clicks.\n",
              "      quickchartButtonEl.classList.add('colab-df-spinner');\n",
              "      try {\n",
              "        const charts = await google.colab.kernel.invokeFunction(\n",
              "            'suggestCharts', [key], {});\n",
              "      } catch (error) {\n",
              "        console.error('Error during call to suggestCharts:', error);\n",
              "      }\n",
              "      quickchartButtonEl.classList.remove('colab-df-spinner');\n",
              "      quickchartButtonEl.classList.add('colab-df-quickchart-complete');\n",
              "    }\n",
              "    (() => {\n",
              "      let quickchartButtonEl =\n",
              "        document.querySelector('#df-a74328b5-72e6-406d-955a-b4857ea27313 button');\n",
              "      quickchartButtonEl.style.display =\n",
              "        google.colab.kernel.accessAllowed ? 'block' : 'none';\n",
              "    })();\n",
              "  </script>\n",
              "</div>\n",
              "    </div>\n",
              "  </div>\n"
            ],
            "application/vnd.google.colaboratory.intrinsic+json": {
              "type": "dataframe",
              "summary": "{\n  \"name\": \"df\",\n  \"rows\": 8,\n  \"fields\": [\n    {\n      \"column\": \"Id\",\n      \"properties\": {\n        \"dtype\": \"number\",\n        \"std\": 100913.04991054055,\n        \"min\": 1.0,\n        \"max\": 280000.0,\n        \"num_unique_values\": 6,\n        \"samples\": [\n          280000.0,\n          140000.5,\n          210000.25\n        ],\n        \"semantic_type\": \"\",\n        \"description\": \"\"\n      }\n    },\n    {\n      \"column\": \"Income\",\n      \"properties\": {\n        \"dtype\": \"number\",\n        \"std\": 3447149.702045828,\n        \"min\": 10310.0,\n        \"max\": 9999938.0,\n        \"num_unique_values\": 8,\n        \"samples\": [\n          5000361.264210714,\n          5003310.0,\n          280000.0\n        ],\n        \"semantic_type\": \"\",\n        \"description\": \"\"\n      }\n    },\n    {\n      \"column\": \"Age\",\n      \"properties\": {\n        \"dtype\": \"number\",\n        \"std\": 98978.93890994447,\n        \"min\": 17.070464695728912,\n        \"max\": 280000.0,\n        \"num_unique_values\": 8,\n        \"samples\": [\n          49.964132142857146,\n          50.0,\n          280000.0\n        ],\n        \"semantic_type\": \"\",\n        \"description\": \"\"\n      }\n    },\n    {\n      \"column\": \"Experience\",\n      \"properties\": {\n        \"dtype\": \"number\",\n        \"std\": 98991.61135088859,\n        \"min\": 0.0,\n        \"max\": 280000.0,\n        \"num_unique_values\": 8,\n        \"samples\": [\n          10.088032142857143,\n          10.0,\n          280000.0\n        ],\n        \"semantic_type\": \"\",\n        \"description\": \"\"\n      }\n    },\n    {\n      \"column\": \"CURRENT_JOB_YRS\",\n      \"properties\": {\n        \"dtype\": \"number\",\n        \"std\": 98992.82908041019,\n        \"min\": 0.0,\n        \"max\": 280000.0,\n        \"num_unique_values\": 8,\n        \"samples\": [\n          6.334417857142857,\n          6.0,\n          280000.0\n        ],\n        \"semantic_type\": \"\",\n        \"description\": \"\"\n      }\n    },\n    {\n      \"column\": \"CURRENT_HOUSE_YRS\",\n      \"properties\": {\n        \"dtype\": \"number\",\n        \"std\": 98991.24237996065,\n        \"min\": 1.3989074187273034,\n        \"max\": 280000.0,\n        \"num_unique_values\": 8,\n        \"samples\": [\n          11.997192857142856,\n          12.0,\n          280000.0\n        ],\n        \"semantic_type\": \"\",\n        \"description\": \"\"\n      }\n    },\n    {\n      \"column\": \"Risk_Flag\",\n      \"properties\": {\n        \"dtype\": \"number\",\n        \"std\": 98994.87600035242,\n        \"min\": 0.0,\n        \"max\": 280000.0,\n        \"num_unique_values\": 5,\n        \"samples\": [\n          0.12353214285714285,\n          1.0,\n          0.3290476245548525\n        ],\n        \"semantic_type\": \"\",\n        \"description\": \"\"\n      }\n    }\n  ]\n}"
            }
          },
          "metadata": {},
          "execution_count": 13
        }
      ],
      "source": [
        "df.describe()"
      ]
    },
    {
      "cell_type": "code",
      "execution_count": null,
      "metadata": {
        "colab": {
          "base_uri": "https://localhost:8080/",
          "height": 461
        },
        "id": "yRjo18FENJSF",
        "outputId": "65a95abd-9fd6-4187-bf6e-e63fd9388900"
      },
      "outputs": [
        {
          "output_type": "execute_result",
          "data": {
            "text/plain": [
              "            Id   Income  Age  Experience Married/Single House_Ownership  \\\n",
              "0            1  1303834   23           3         single          rented   \n",
              "1            2  7574516   40          10         single          rented   \n",
              "2            3  3991815   66           4        married          rented   \n",
              "3            4  6256451   41           2         single          rented   \n",
              "4            5  5768871   47          11         single          rented   \n",
              "...        ...      ...  ...         ...            ...             ...   \n",
              "279995  279996  9955481   57          13         single          rented   \n",
              "279996  279997  2917765   47           9         single          rented   \n",
              "279997  279998  8082415   24           5         single          rented   \n",
              "279998  279999  9474180   51          13         single          rented   \n",
              "279999  280000  9250350   42           9         single          rented   \n",
              "\n",
              "       Car_Ownership            Profession                 CITY  \\\n",
              "0                 no   Mechanical_engineer                 Rewa   \n",
              "1                 no    Software_Developer             Parbhani   \n",
              "2                 no      Technical_writer            Alappuzha   \n",
              "3                yes    Software_Developer          Bhubaneswar   \n",
              "4                 no         Civil_servant  Tiruchirappalli[10]   \n",
              "...              ...                   ...                  ...   \n",
              "279995            no          Statistician            Eluru[25]   \n",
              "279996            no      Technical writer               Ratlam   \n",
              "279997            no                Lawyer       Mira-Bhayandar   \n",
              "279998           yes  Chartered Accountant               Bhilai   \n",
              "279999            no                  Chef          Navi Mumbai   \n",
              "\n",
              "                 STATE  CURRENT_JOB_YRS  CURRENT_HOUSE_YRS  Risk_Flag  \n",
              "0       Madhya_Pradesh                3                 13          0  \n",
              "1          Maharashtra                9                 13          0  \n",
              "2               Kerala                4                 10          0  \n",
              "3               Odisha                2                 12          1  \n",
              "4           Tamil_Nadu                3                 14          1  \n",
              "...                ...              ...                ...        ...  \n",
              "279995  Andhra Pradesh                5                 10          0  \n",
              "279996  Madhya Pradesh                9                 14          1  \n",
              "279997     Maharashtra                4                 13          0  \n",
              "279998    Chhattisgarh               13                 14          0  \n",
              "279999     Maharashtra                4                 10          0  \n",
              "\n",
              "[280000 rows x 13 columns]"
            ],
            "text/html": [
              "\n",
              "  <div id=\"df-a52e0bb4-70d4-46e9-9220-a2cb2269c7c6\" class=\"colab-df-container\">\n",
              "    <div>\n",
              "<style scoped>\n",
              "    .dataframe tbody tr th:only-of-type {\n",
              "        vertical-align: middle;\n",
              "    }\n",
              "\n",
              "    .dataframe tbody tr th {\n",
              "        vertical-align: top;\n",
              "    }\n",
              "\n",
              "    .dataframe thead th {\n",
              "        text-align: right;\n",
              "    }\n",
              "</style>\n",
              "<table border=\"1\" class=\"dataframe\">\n",
              "  <thead>\n",
              "    <tr style=\"text-align: right;\">\n",
              "      <th></th>\n",
              "      <th>Id</th>\n",
              "      <th>Income</th>\n",
              "      <th>Age</th>\n",
              "      <th>Experience</th>\n",
              "      <th>Married/Single</th>\n",
              "      <th>House_Ownership</th>\n",
              "      <th>Car_Ownership</th>\n",
              "      <th>Profession</th>\n",
              "      <th>CITY</th>\n",
              "      <th>STATE</th>\n",
              "      <th>CURRENT_JOB_YRS</th>\n",
              "      <th>CURRENT_HOUSE_YRS</th>\n",
              "      <th>Risk_Flag</th>\n",
              "    </tr>\n",
              "  </thead>\n",
              "  <tbody>\n",
              "    <tr>\n",
              "      <th>0</th>\n",
              "      <td>1</td>\n",
              "      <td>1303834</td>\n",
              "      <td>23</td>\n",
              "      <td>3</td>\n",
              "      <td>single</td>\n",
              "      <td>rented</td>\n",
              "      <td>no</td>\n",
              "      <td>Mechanical_engineer</td>\n",
              "      <td>Rewa</td>\n",
              "      <td>Madhya_Pradesh</td>\n",
              "      <td>3</td>\n",
              "      <td>13</td>\n",
              "      <td>0</td>\n",
              "    </tr>\n",
              "    <tr>\n",
              "      <th>1</th>\n",
              "      <td>2</td>\n",
              "      <td>7574516</td>\n",
              "      <td>40</td>\n",
              "      <td>10</td>\n",
              "      <td>single</td>\n",
              "      <td>rented</td>\n",
              "      <td>no</td>\n",
              "      <td>Software_Developer</td>\n",
              "      <td>Parbhani</td>\n",
              "      <td>Maharashtra</td>\n",
              "      <td>9</td>\n",
              "      <td>13</td>\n",
              "      <td>0</td>\n",
              "    </tr>\n",
              "    <tr>\n",
              "      <th>2</th>\n",
              "      <td>3</td>\n",
              "      <td>3991815</td>\n",
              "      <td>66</td>\n",
              "      <td>4</td>\n",
              "      <td>married</td>\n",
              "      <td>rented</td>\n",
              "      <td>no</td>\n",
              "      <td>Technical_writer</td>\n",
              "      <td>Alappuzha</td>\n",
              "      <td>Kerala</td>\n",
              "      <td>4</td>\n",
              "      <td>10</td>\n",
              "      <td>0</td>\n",
              "    </tr>\n",
              "    <tr>\n",
              "      <th>3</th>\n",
              "      <td>4</td>\n",
              "      <td>6256451</td>\n",
              "      <td>41</td>\n",
              "      <td>2</td>\n",
              "      <td>single</td>\n",
              "      <td>rented</td>\n",
              "      <td>yes</td>\n",
              "      <td>Software_Developer</td>\n",
              "      <td>Bhubaneswar</td>\n",
              "      <td>Odisha</td>\n",
              "      <td>2</td>\n",
              "      <td>12</td>\n",
              "      <td>1</td>\n",
              "    </tr>\n",
              "    <tr>\n",
              "      <th>4</th>\n",
              "      <td>5</td>\n",
              "      <td>5768871</td>\n",
              "      <td>47</td>\n",
              "      <td>11</td>\n",
              "      <td>single</td>\n",
              "      <td>rented</td>\n",
              "      <td>no</td>\n",
              "      <td>Civil_servant</td>\n",
              "      <td>Tiruchirappalli[10]</td>\n",
              "      <td>Tamil_Nadu</td>\n",
              "      <td>3</td>\n",
              "      <td>14</td>\n",
              "      <td>1</td>\n",
              "    </tr>\n",
              "    <tr>\n",
              "      <th>...</th>\n",
              "      <td>...</td>\n",
              "      <td>...</td>\n",
              "      <td>...</td>\n",
              "      <td>...</td>\n",
              "      <td>...</td>\n",
              "      <td>...</td>\n",
              "      <td>...</td>\n",
              "      <td>...</td>\n",
              "      <td>...</td>\n",
              "      <td>...</td>\n",
              "      <td>...</td>\n",
              "      <td>...</td>\n",
              "      <td>...</td>\n",
              "    </tr>\n",
              "    <tr>\n",
              "      <th>279995</th>\n",
              "      <td>279996</td>\n",
              "      <td>9955481</td>\n",
              "      <td>57</td>\n",
              "      <td>13</td>\n",
              "      <td>single</td>\n",
              "      <td>rented</td>\n",
              "      <td>no</td>\n",
              "      <td>Statistician</td>\n",
              "      <td>Eluru[25]</td>\n",
              "      <td>Andhra Pradesh</td>\n",
              "      <td>5</td>\n",
              "      <td>10</td>\n",
              "      <td>0</td>\n",
              "    </tr>\n",
              "    <tr>\n",
              "      <th>279996</th>\n",
              "      <td>279997</td>\n",
              "      <td>2917765</td>\n",
              "      <td>47</td>\n",
              "      <td>9</td>\n",
              "      <td>single</td>\n",
              "      <td>rented</td>\n",
              "      <td>no</td>\n",
              "      <td>Technical writer</td>\n",
              "      <td>Ratlam</td>\n",
              "      <td>Madhya Pradesh</td>\n",
              "      <td>9</td>\n",
              "      <td>14</td>\n",
              "      <td>1</td>\n",
              "    </tr>\n",
              "    <tr>\n",
              "      <th>279997</th>\n",
              "      <td>279998</td>\n",
              "      <td>8082415</td>\n",
              "      <td>24</td>\n",
              "      <td>5</td>\n",
              "      <td>single</td>\n",
              "      <td>rented</td>\n",
              "      <td>no</td>\n",
              "      <td>Lawyer</td>\n",
              "      <td>Mira-Bhayandar</td>\n",
              "      <td>Maharashtra</td>\n",
              "      <td>4</td>\n",
              "      <td>13</td>\n",
              "      <td>0</td>\n",
              "    </tr>\n",
              "    <tr>\n",
              "      <th>279998</th>\n",
              "      <td>279999</td>\n",
              "      <td>9474180</td>\n",
              "      <td>51</td>\n",
              "      <td>13</td>\n",
              "      <td>single</td>\n",
              "      <td>rented</td>\n",
              "      <td>yes</td>\n",
              "      <td>Chartered Accountant</td>\n",
              "      <td>Bhilai</td>\n",
              "      <td>Chhattisgarh</td>\n",
              "      <td>13</td>\n",
              "      <td>14</td>\n",
              "      <td>0</td>\n",
              "    </tr>\n",
              "    <tr>\n",
              "      <th>279999</th>\n",
              "      <td>280000</td>\n",
              "      <td>9250350</td>\n",
              "      <td>42</td>\n",
              "      <td>9</td>\n",
              "      <td>single</td>\n",
              "      <td>rented</td>\n",
              "      <td>no</td>\n",
              "      <td>Chef</td>\n",
              "      <td>Navi Mumbai</td>\n",
              "      <td>Maharashtra</td>\n",
              "      <td>4</td>\n",
              "      <td>10</td>\n",
              "      <td>0</td>\n",
              "    </tr>\n",
              "  </tbody>\n",
              "</table>\n",
              "<p>280000 rows × 13 columns</p>\n",
              "</div>\n",
              "    <div class=\"colab-df-buttons\">\n",
              "\n",
              "  <div class=\"colab-df-container\">\n",
              "    <button class=\"colab-df-convert\" onclick=\"convertToInteractive('df-a52e0bb4-70d4-46e9-9220-a2cb2269c7c6')\"\n",
              "            title=\"Convert this dataframe to an interactive table.\"\n",
              "            style=\"display:none;\">\n",
              "\n",
              "  <svg xmlns=\"http://www.w3.org/2000/svg\" height=\"24px\" viewBox=\"0 -960 960 960\">\n",
              "    <path d=\"M120-120v-720h720v720H120Zm60-500h600v-160H180v160Zm220 220h160v-160H400v160Zm0 220h160v-160H400v160ZM180-400h160v-160H180v160Zm440 0h160v-160H620v160ZM180-180h160v-160H180v160Zm440 0h160v-160H620v160Z\"/>\n",
              "  </svg>\n",
              "    </button>\n",
              "\n",
              "  <style>\n",
              "    .colab-df-container {\n",
              "      display:flex;\n",
              "      gap: 12px;\n",
              "    }\n",
              "\n",
              "    .colab-df-convert {\n",
              "      background-color: #E8F0FE;\n",
              "      border: none;\n",
              "      border-radius: 50%;\n",
              "      cursor: pointer;\n",
              "      display: none;\n",
              "      fill: #1967D2;\n",
              "      height: 32px;\n",
              "      padding: 0 0 0 0;\n",
              "      width: 32px;\n",
              "    }\n",
              "\n",
              "    .colab-df-convert:hover {\n",
              "      background-color: #E2EBFA;\n",
              "      box-shadow: 0px 1px 2px rgba(60, 64, 67, 0.3), 0px 1px 3px 1px rgba(60, 64, 67, 0.15);\n",
              "      fill: #174EA6;\n",
              "    }\n",
              "\n",
              "    .colab-df-buttons div {\n",
              "      margin-bottom: 4px;\n",
              "    }\n",
              "\n",
              "    [theme=dark] .colab-df-convert {\n",
              "      background-color: #3B4455;\n",
              "      fill: #D2E3FC;\n",
              "    }\n",
              "\n",
              "    [theme=dark] .colab-df-convert:hover {\n",
              "      background-color: #434B5C;\n",
              "      box-shadow: 0px 1px 3px 1px rgba(0, 0, 0, 0.15);\n",
              "      filter: drop-shadow(0px 1px 2px rgba(0, 0, 0, 0.3));\n",
              "      fill: #FFFFFF;\n",
              "    }\n",
              "  </style>\n",
              "\n",
              "    <script>\n",
              "      const buttonEl =\n",
              "        document.querySelector('#df-a52e0bb4-70d4-46e9-9220-a2cb2269c7c6 button.colab-df-convert');\n",
              "      buttonEl.style.display =\n",
              "        google.colab.kernel.accessAllowed ? 'block' : 'none';\n",
              "\n",
              "      async function convertToInteractive(key) {\n",
              "        const element = document.querySelector('#df-a52e0bb4-70d4-46e9-9220-a2cb2269c7c6');\n",
              "        const dataTable =\n",
              "          await google.colab.kernel.invokeFunction('convertToInteractive',\n",
              "                                                    [key], {});\n",
              "        if (!dataTable) return;\n",
              "\n",
              "        const docLinkHtml = 'Like what you see? Visit the ' +\n",
              "          '<a target=\"_blank\" href=https://colab.research.google.com/notebooks/data_table.ipynb>data table notebook</a>'\n",
              "          + ' to learn more about interactive tables.';\n",
              "        element.innerHTML = '';\n",
              "        dataTable['output_type'] = 'display_data';\n",
              "        await google.colab.output.renderOutput(dataTable, element);\n",
              "        const docLink = document.createElement('div');\n",
              "        docLink.innerHTML = docLinkHtml;\n",
              "        element.appendChild(docLink);\n",
              "      }\n",
              "    </script>\n",
              "  </div>\n",
              "\n",
              "\n",
              "<div id=\"df-2c2c7519-d2c9-4346-8fcf-7f5346bac042\">\n",
              "  <button class=\"colab-df-quickchart\" onclick=\"quickchart('df-2c2c7519-d2c9-4346-8fcf-7f5346bac042')\"\n",
              "            title=\"Suggest charts\"\n",
              "            style=\"display:none;\">\n",
              "\n",
              "<svg xmlns=\"http://www.w3.org/2000/svg\" height=\"24px\"viewBox=\"0 0 24 24\"\n",
              "     width=\"24px\">\n",
              "    <g>\n",
              "        <path d=\"M19 3H5c-1.1 0-2 .9-2 2v14c0 1.1.9 2 2 2h14c1.1 0 2-.9 2-2V5c0-1.1-.9-2-2-2zM9 17H7v-7h2v7zm4 0h-2V7h2v10zm4 0h-2v-4h2v4z\"/>\n",
              "    </g>\n",
              "</svg>\n",
              "  </button>\n",
              "\n",
              "<style>\n",
              "  .colab-df-quickchart {\n",
              "      --bg-color: #E8F0FE;\n",
              "      --fill-color: #1967D2;\n",
              "      --hover-bg-color: #E2EBFA;\n",
              "      --hover-fill-color: #174EA6;\n",
              "      --disabled-fill-color: #AAA;\n",
              "      --disabled-bg-color: #DDD;\n",
              "  }\n",
              "\n",
              "  [theme=dark] .colab-df-quickchart {\n",
              "      --bg-color: #3B4455;\n",
              "      --fill-color: #D2E3FC;\n",
              "      --hover-bg-color: #434B5C;\n",
              "      --hover-fill-color: #FFFFFF;\n",
              "      --disabled-bg-color: #3B4455;\n",
              "      --disabled-fill-color: #666;\n",
              "  }\n",
              "\n",
              "  .colab-df-quickchart {\n",
              "    background-color: var(--bg-color);\n",
              "    border: none;\n",
              "    border-radius: 50%;\n",
              "    cursor: pointer;\n",
              "    display: none;\n",
              "    fill: var(--fill-color);\n",
              "    height: 32px;\n",
              "    padding: 0;\n",
              "    width: 32px;\n",
              "  }\n",
              "\n",
              "  .colab-df-quickchart:hover {\n",
              "    background-color: var(--hover-bg-color);\n",
              "    box-shadow: 0 1px 2px rgba(60, 64, 67, 0.3), 0 1px 3px 1px rgba(60, 64, 67, 0.15);\n",
              "    fill: var(--button-hover-fill-color);\n",
              "  }\n",
              "\n",
              "  .colab-df-quickchart-complete:disabled,\n",
              "  .colab-df-quickchart-complete:disabled:hover {\n",
              "    background-color: var(--disabled-bg-color);\n",
              "    fill: var(--disabled-fill-color);\n",
              "    box-shadow: none;\n",
              "  }\n",
              "\n",
              "  .colab-df-spinner {\n",
              "    border: 2px solid var(--fill-color);\n",
              "    border-color: transparent;\n",
              "    border-bottom-color: var(--fill-color);\n",
              "    animation:\n",
              "      spin 1s steps(1) infinite;\n",
              "  }\n",
              "\n",
              "  @keyframes spin {\n",
              "    0% {\n",
              "      border-color: transparent;\n",
              "      border-bottom-color: var(--fill-color);\n",
              "      border-left-color: var(--fill-color);\n",
              "    }\n",
              "    20% {\n",
              "      border-color: transparent;\n",
              "      border-left-color: var(--fill-color);\n",
              "      border-top-color: var(--fill-color);\n",
              "    }\n",
              "    30% {\n",
              "      border-color: transparent;\n",
              "      border-left-color: var(--fill-color);\n",
              "      border-top-color: var(--fill-color);\n",
              "      border-right-color: var(--fill-color);\n",
              "    }\n",
              "    40% {\n",
              "      border-color: transparent;\n",
              "      border-right-color: var(--fill-color);\n",
              "      border-top-color: var(--fill-color);\n",
              "    }\n",
              "    60% {\n",
              "      border-color: transparent;\n",
              "      border-right-color: var(--fill-color);\n",
              "    }\n",
              "    80% {\n",
              "      border-color: transparent;\n",
              "      border-right-color: var(--fill-color);\n",
              "      border-bottom-color: var(--fill-color);\n",
              "    }\n",
              "    90% {\n",
              "      border-color: transparent;\n",
              "      border-bottom-color: var(--fill-color);\n",
              "    }\n",
              "  }\n",
              "</style>\n",
              "\n",
              "  <script>\n",
              "    async function quickchart(key) {\n",
              "      const quickchartButtonEl =\n",
              "        document.querySelector('#' + key + ' button');\n",
              "      quickchartButtonEl.disabled = true;  // To prevent multiple clicks.\n",
              "      quickchartButtonEl.classList.add('colab-df-spinner');\n",
              "      try {\n",
              "        const charts = await google.colab.kernel.invokeFunction(\n",
              "            'suggestCharts', [key], {});\n",
              "      } catch (error) {\n",
              "        console.error('Error during call to suggestCharts:', error);\n",
              "      }\n",
              "      quickchartButtonEl.classList.remove('colab-df-spinner');\n",
              "      quickchartButtonEl.classList.add('colab-df-quickchart-complete');\n",
              "    }\n",
              "    (() => {\n",
              "      let quickchartButtonEl =\n",
              "        document.querySelector('#df-2c2c7519-d2c9-4346-8fcf-7f5346bac042 button');\n",
              "      quickchartButtonEl.style.display =\n",
              "        google.colab.kernel.accessAllowed ? 'block' : 'none';\n",
              "    })();\n",
              "  </script>\n",
              "</div>\n",
              "    </div>\n",
              "  </div>\n"
            ],
            "application/vnd.google.colaboratory.intrinsic+json": {
              "type": "dataframe",
              "variable_name": "df"
            }
          },
          "metadata": {},
          "execution_count": 14
        }
      ],
      "source": [
        "df\n"
      ]
    },
    {
      "cell_type": "markdown",
      "source": [
        "Total rows after combining train and test data = 280000"
      ],
      "metadata": {
        "id": "DsFY055THsKE"
      }
    },
    {
      "cell_type": "markdown",
      "source": [
        "# **Data Visualization**"
      ],
      "metadata": {
        "id": "4_eliROrQPSr"
      }
    },
    {
      "cell_type": "code",
      "source": [
        "!pip install seaborn"
      ],
      "metadata": {
        "colab": {
          "base_uri": "https://localhost:8080/"
        },
        "id": "Q8KZYt1xRH4E",
        "outputId": "92462496-0dda-4afe-a80c-8ae82febee23"
      },
      "execution_count": null,
      "outputs": [
        {
          "output_type": "stream",
          "name": "stdout",
          "text": [
            "Requirement already satisfied: seaborn in /usr/local/lib/python3.10/dist-packages (0.13.1)\n",
            "Requirement already satisfied: numpy!=1.24.0,>=1.20 in /usr/local/lib/python3.10/dist-packages (from seaborn) (1.25.2)\n",
            "Requirement already satisfied: pandas>=1.2 in /usr/local/lib/python3.10/dist-packages (from seaborn) (1.5.3)\n",
            "Requirement already satisfied: matplotlib!=3.6.1,>=3.4 in /usr/local/lib/python3.10/dist-packages (from seaborn) (3.7.1)\n",
            "Requirement already satisfied: contourpy>=1.0.1 in /usr/local/lib/python3.10/dist-packages (from matplotlib!=3.6.1,>=3.4->seaborn) (1.2.0)\n",
            "Requirement already satisfied: cycler>=0.10 in /usr/local/lib/python3.10/dist-packages (from matplotlib!=3.6.1,>=3.4->seaborn) (0.12.1)\n",
            "Requirement already satisfied: fonttools>=4.22.0 in /usr/local/lib/python3.10/dist-packages (from matplotlib!=3.6.1,>=3.4->seaborn) (4.49.0)\n",
            "Requirement already satisfied: kiwisolver>=1.0.1 in /usr/local/lib/python3.10/dist-packages (from matplotlib!=3.6.1,>=3.4->seaborn) (1.4.5)\n",
            "Requirement already satisfied: packaging>=20.0 in /usr/local/lib/python3.10/dist-packages (from matplotlib!=3.6.1,>=3.4->seaborn) (24.0)\n",
            "Requirement already satisfied: pillow>=6.2.0 in /usr/local/lib/python3.10/dist-packages (from matplotlib!=3.6.1,>=3.4->seaborn) (9.4.0)\n",
            "Requirement already satisfied: pyparsing>=2.3.1 in /usr/local/lib/python3.10/dist-packages (from matplotlib!=3.6.1,>=3.4->seaborn) (3.1.2)\n",
            "Requirement already satisfied: python-dateutil>=2.7 in /usr/local/lib/python3.10/dist-packages (from matplotlib!=3.6.1,>=3.4->seaborn) (2.8.2)\n",
            "Requirement already satisfied: pytz>=2020.1 in /usr/local/lib/python3.10/dist-packages (from pandas>=1.2->seaborn) (2023.4)\n",
            "Requirement already satisfied: six>=1.5 in /usr/local/lib/python3.10/dist-packages (from python-dateutil>=2.7->matplotlib!=3.6.1,>=3.4->seaborn) (1.16.0)\n"
          ]
        }
      ]
    },
    {
      "cell_type": "code",
      "execution_count": null,
      "metadata": {
        "colab": {
          "base_uri": "https://localhost:8080/",
          "height": 521
        },
        "id": "X6Ix3q_hLnin",
        "outputId": "13247043-e394-48d3-c046-7e3ce173a8f1"
      },
      "outputs": [
        {
          "output_type": "display_data",
          "data": {
            "text/plain": [
              "<Figure size 800x600 with 1 Axes>"
            ],
            "image/png": "[encoded data removed]"
          },
          "metadata": {}
        }
      ],
      "source": [
        "import pandas as pd\n",
        "import matplotlib.pyplot as plt\n",
        "\n",
        "risk_counts = df['Risk_Flag'].value_counts()\n",
        "\n",
        "# Create a pie chart\n",
        "plt.figure(figsize=(8, 6))\n",
        "plt.pie(risk_counts, labels=risk_counts.index, autopct='%1.1f%%', startangle=140)\n",
        "plt.title('Distribution of Risk_Flag')\n",
        "plt.axis('equal')  # Equal aspect ratio ensures that pie is drawn as a circle.\n",
        "plt.show()\n"
      ]
    },
    {
      "cell_type": "markdown",
      "source": [
        "Distribution of Age"
      ],
      "metadata": {
        "id": "lwkee8E8S8iF"
      }
    },
    {
      "cell_type": "code",
      "source": [
        "import seaborn as sns\n",
        "\n",
        "sns.distplot(a=df[\"Age\"])"
      ],
      "metadata": {
        "colab": {
          "base_uri": "https://localhost:8080/",
          "height": 657
        },
        "id": "1bRFWn8eQ1Z5",
        "outputId": "46706172-cd20-47f0-e75d-7f260e2235f1"
      },
      "execution_count": null,
      "outputs": [
        {
          "output_type": "stream",
          "name": "stderr",
          "text": [
            "<ipython-input-17-9cf1bd54d922>:3: UserWarning: \n",
            "\n",
            "`distplot` is a deprecated function and will be removed in seaborn v0.14.0.\n",
            "\n",
            "Please adapt your code to use either `displot` (a figure-level function with\n",
            "similar flexibility) or `histplot` (an axes-level function for histograms).\n",
            "\n",
            "For a guide to updating your code to use the new functions, please see\n",
            "https://gist.github.com/mwaskom/de44147ed2974457ad6372750bbe5751\n",
            "\n",
            "  sns.distplot(a=df[\"Age\"])\n"
          ]
        },
        {
          "output_type": "execute_result",
          "data": {
            "text/plain": [
              "<Axes: xlabel='Age', ylabel='Density'>"
            ]
          },
          "metadata": {},
          "execution_count": 17
        },
        {
          "output_type": "display_data",
          "data": {
            "text/plain": [
              "<Figure size 640x480 with 1 Axes>"
            ],
            "image/png": "[encoded data removed]"
          },
          "metadata": {}
        }
      ]
    },
    {
      "cell_type": "markdown",
      "source": [
        "Distribution of Income"
      ],
      "metadata": {
        "id": "JJKpHIY6TTI4"
      }
    },
    {
      "cell_type": "code",
      "source": [
        "sns.distplot(a=df[\"Income\"]);"
      ],
      "metadata": {
        "id": "vxXdgRHtTVy5",
        "colab": {
          "base_uri": "https://localhost:8080/",
          "height": 656
        },
        "outputId": "4a1b5bd7-04c6-4c6b-b2dd-108835ecdc59"
      },
      "execution_count": null,
      "outputs": [
        {
          "output_type": "stream",
          "name": "stderr",
          "text": [
            "<ipython-input-18-15dfd5b51049>:1: UserWarning: \n",
            "\n",
            "`distplot` is a deprecated function and will be removed in seaborn v0.14.0.\n",
            "\n",
            "Please adapt your code to use either `displot` (a figure-level function with\n",
            "similar flexibility) or `histplot` (an axes-level function for histograms).\n",
            "\n",
            "For a guide to updating your code to use the new functions, please see\n",
            "https://gist.github.com/mwaskom/de44147ed2974457ad6372750bbe5751\n",
            "\n",
            "  sns.distplot(a=df[\"Income\"]);\n"
          ]
        },
        {
          "output_type": "display_data",
          "data": {
            "text/plain": [
              "<Figure size 640x480 with 1 Axes>"
            ],
            "image/png": "[encoded data removed]"
          },
          "metadata": {}
        }
      ]
    },
    {
      "cell_type": "markdown",
      "source": [
        "I tried different transformations in order to convert the column data into a symmetric curve, aiming to enhance its symmetry, as it supposedly improves the performance of machine learning algorithms. However, despite my efforts, the data continued to exhibit asymmetry, as confirmed by the QQ plot. It's worth noting that I conducted these transformations in a rough notebook, but I chose not to include them in this project as they didn't contribute meaningfully to its objectives."
      ],
      "metadata": {
        "id": "2agOppoeJdO5"
      }
    },
    {
      "cell_type": "markdown",
      "source": [
        "Effect of House ownership on Risk Flag"
      ],
      "metadata": {
        "id": "_AxuS74XS_Gm"
      }
    },
    {
      "cell_type": "code",
      "source": [
        "sns.countplot(x='House_Ownership', hue='Risk_Flag', data=df)"
      ],
      "metadata": {
        "id": "pih99SntRRyR",
        "colab": {
          "base_uri": "https://localhost:8080/",
          "height": 467
        },
        "outputId": "c21be8e0-f69b-489d-ee63-96095ae9171e"
      },
      "execution_count": null,
      "outputs": [
        {
          "output_type": "execute_result",
          "data": {
            "text/plain": [
              "<Axes: xlabel='House_Ownership', ylabel='count'>"
            ]
          },
          "metadata": {},
          "execution_count": 19
        },
        {
          "output_type": "display_data",
          "data": {
            "text/plain": [
              "<Figure size 640x480 with 1 Axes>"
            ],
            "image/png": "[encoded data removed]"
          },
          "metadata": {}
        }
      ]
    },
    {
      "cell_type": "markdown",
      "source": [
        "Effect of Car owners on Risk Flag"
      ],
      "metadata": {
        "id": "Ds3wiL9fTDN9"
      }
    },
    {
      "cell_type": "code",
      "source": [
        "sns.countplot(x='Car_Ownership', hue='Risk_Flag', data=df)"
      ],
      "metadata": {
        "id": "uuIsG-HSTGHn",
        "colab": {
          "base_uri": "https://localhost:8080/",
          "height": 467
        },
        "outputId": "82ba3ab5-c482-412b-9191-fc2e01eaf225"
      },
      "execution_count": null,
      "outputs": [
        {
          "output_type": "execute_result",
          "data": {
            "text/plain": [
              "<Axes: xlabel='Car_Ownership', ylabel='count'>"
            ]
          },
          "metadata": {},
          "execution_count": 20
        },
        {
          "output_type": "display_data",
          "data": {
            "text/plain": [
              "<Figure size 640x480 with 1 Axes>"
            ],
            "image/png": "[encoded data removed]"
          },
          "metadata": {}
        }
      ]
    },
    {
      "cell_type": "markdown",
      "source": [
        "Effect of Marital Status on Risk Flag"
      ],
      "metadata": {
        "id": "l243vrdATKD1"
      }
    },
    {
      "cell_type": "code",
      "source": [
        "sns.countplot(x='Married/Single', hue='Risk_Flag', data=df)\n"
      ],
      "metadata": {
        "id": "Bvw7z1SQTPSX",
        "colab": {
          "base_uri": "https://localhost:8080/",
          "height": 466
        },
        "outputId": "157e4e89-f1d8-4469-dc9e-d774cfb2cca6"
      },
      "execution_count": null,
      "outputs": [
        {
          "output_type": "execute_result",
          "data": {
            "text/plain": [
              "<Axes: xlabel='Married/Single', ylabel='count'>"
            ]
          },
          "metadata": {},
          "execution_count": 21
        },
        {
          "output_type": "display_data",
          "data": {
            "text/plain": [
              "<Figure size 640x480 with 1 Axes>"
            ],
            "image/png": "[encoded data removed]"
          },
          "metadata": {}
        }
      ]
    },
    {
      "cell_type": "markdown",
      "source": [
        "Correlation"
      ],
      "metadata": {
        "id": "CepO4dxFyonW"
      }
    },
    {
      "cell_type": "code",
      "source": [
        "sns.heatmap(df.corr(), annot=True);"
      ],
      "metadata": {
        "id": "zBbn5XAbynl4",
        "colab": {
          "base_uri": "https://localhost:8080/",
          "height": 633
        },
        "outputId": "7739176e-5ffa-4401-fa2b-601dbb3eed13"
      },
      "execution_count": null,
      "outputs": [
        {
          "output_type": "stream",
          "name": "stderr",
          "text": [
            "<ipython-input-22-2af366b0e523>:1: FutureWarning: The default value of numeric_only in DataFrame.corr is deprecated. In a future version, it will default to False. Select only valid columns or specify the value of numeric_only to silence this warning.\n",
            "  sns.heatmap(df.corr(), annot=True);\n"
          ]
        },
        {
          "output_type": "display_data",
          "data": {
            "text/plain": [
              "<Figure size 640x480 with 2 Axes>"
            ],
            "image/png": "[encoded data removed]"
          },
          "metadata": {}
        }
      ]
    },
    {
      "cell_type": "markdown",
      "metadata": {
        "id": "IslZh1uYuafx"
      },
      "source": [
        "## **Preprocessing**"
      ]
    },
    {
      "cell_type": "markdown",
      "metadata": {
        "id": "4BIb2ibzleGQ"
      },
      "source": [
        "Looks like there are some erroneous values in our City column which follow a similar trend.\n",
        "\n",
        "Eg:- Eluru[25]"
      ]
    },
    {
      "cell_type": "code",
      "execution_count": null,
      "metadata": {
        "id": "K7ggQWSulaeR"
      },
      "outputs": [],
      "source": [
        "for i in range(len(df.CITY)):\n",
        "    for j in df.CITY[i]:\n",
        "        if j == '[':\n",
        "            df.at[i,'CITY'] = df.CITY[i].split('[')[0]"
      ]
    },
    {
      "cell_type": "markdown",
      "metadata": {
        "id": "m8kjAkNKfKO3"
      },
      "source": [
        "**Check for null values**"
      ]
    },
    {
      "cell_type": "code",
      "execution_count": null,
      "metadata": {
        "colab": {
          "base_uri": "https://localhost:8080/"
        },
        "id": "unuTdqOye-is",
        "outputId": "2e514b6d-58a5-46a9-e357-5fe5f990f09f"
      },
      "outputs": [
        {
          "output_type": "execute_result",
          "data": {
            "text/plain": [
              "Id                   0\n",
              "Income               0\n",
              "Age                  0\n",
              "Experience           0\n",
              "Married/Single       0\n",
              "House_Ownership      0\n",
              "Car_Ownership        0\n",
              "Profession           0\n",
              "CITY                 0\n",
              "STATE                0\n",
              "CURRENT_JOB_YRS      0\n",
              "CURRENT_HOUSE_YRS    0\n",
              "Risk_Flag            0\n",
              "dtype: int64"
            ]
          },
          "metadata": {},
          "execution_count": 24
        }
      ],
      "source": [
        "df.isnull().sum()"
      ]
    },
    {
      "cell_type": "markdown",
      "metadata": {
        "id": "l3CJ9jgjfArr"
      },
      "source": [
        "**Outlier Analysis**"
      ]
    },
    {
      "cell_type": "code",
      "execution_count": null,
      "metadata": {
        "colab": {
          "base_uri": "https://localhost:8080/",
          "height": 469
        },
        "id": "it_o0eEHdu4w",
        "outputId": "8b22ef08-eabd-4ed3-9619-58c22df8b79d"
      },
      "outputs": [
        {
          "output_type": "execute_result",
          "data": {
            "text/plain": [
              "Text(0, 0.5, 'Age')"
            ]
          },
          "metadata": {},
          "execution_count": 25
        },
        {
          "output_type": "display_data",
          "data": {
            "text/plain": [
              "<Figure size 640x480 with 1 Axes>"
            ],
            "image/png": "[encoded data removed]"
          },
          "metadata": {}
        }
      ],
      "source": [
        "# NO OUTLIERS FOUND FOR AGE\n",
        "import matplotlib.pyplot as plt\n",
        "import seaborn as sns\n",
        "sns.boxplot(y = 'Age', data = df)\n",
        "\n",
        "plt.boxplot(df['Age'])\n",
        "plt.title('Boxplot of Age')\n",
        "plt.ylabel('Age')"
      ]
    },
    {
      "cell_type": "code",
      "execution_count": null,
      "metadata": {
        "colab": {
          "base_uri": "https://localhost:8080/",
          "height": 469
        },
        "id": "2xAbjVUIfJme",
        "outputId": "7377285a-89cf-410c-caa4-a6a0b9dad018"
      },
      "outputs": [
        {
          "output_type": "execute_result",
          "data": {
            "text/plain": [
              "Text(0, 0.5, 'Income')"
            ]
          },
          "metadata": {},
          "execution_count": 26
        },
        {
          "output_type": "display_data",
          "data": {
            "text/plain": [
              "<Figure size 640x480 with 1 Axes>"
            ],
            "image/png": "[encoded data removed]"
          },
          "metadata": {}
        }
      ],
      "source": [
        "### NO OUTLIERS FOUND FOR INCOME\n",
        "import seaborn as sns\n",
        "sns.boxplot(y = 'Income', data = df)\n",
        "\n",
        "plt.boxplot(df['Income'])\n",
        "\n",
        "plt.title('Boxplot of Income')\n",
        "plt.ylabel('Income')"
      ]
    },
    {
      "cell_type": "code",
      "source": [
        "### NO OUTLIERS FOUND FOR CURRENT_JOB_YRS\n",
        "import seaborn as sns\n",
        "sns.boxplot(y = 'CURRENT_JOB_YRS', data = df)\n",
        "\n",
        "plt.boxplot(df['CURRENT_JOB_YRS'])\n",
        "\n",
        "plt.title('CURRENT_JOB_YRS')\n",
        "plt.ylabel('CURRENT_JOB_YRS')"
      ],
      "metadata": {
        "colab": {
          "base_uri": "https://localhost:8080/",
          "height": 469
        },
        "id": "kCZStDyOhNn5",
        "outputId": "aea1afd4-db9a-4e8c-c578-7ea1a5df7259"
      },
      "execution_count": null,
      "outputs": [
        {
          "output_type": "execute_result",
          "data": {
            "text/plain": [
              "Text(0, 0.5, 'CURRENT_JOB_YRS')"
            ]
          },
          "metadata": {},
          "execution_count": 27
        },
        {
          "output_type": "display_data",
          "data": {
            "text/plain": [
              "<Figure size 640x480 with 1 Axes>"
            ],
            "image/png": "[encoded data removed]"
          },
          "metadata": {}
        }
      ]
    },
    {
      "cell_type": "code",
      "source": [
        "### NO OUTLIERS FOUND FOR CURRENT_HOUSE_YRS\n",
        "import seaborn as sns\n",
        "sns.boxplot(y = 'CURRENT_HOUSE_YRS', data = df)\n",
        "\n",
        "plt.boxplot(df['CURRENT_HOUSE_YRS'])\n",
        "\n",
        "plt.title('CURRENT_HOUSE_YRS')\n",
        "plt.ylabel('CURRENT_HOUSE_YRS')"
      ],
      "metadata": {
        "colab": {
          "base_uri": "https://localhost:8080/",
          "height": 469
        },
        "id": "XMeDJQfuh1Yf",
        "outputId": "360b69ed-d3c3-4a00-a0f4-a4838ae37a13"
      },
      "execution_count": null,
      "outputs": [
        {
          "output_type": "execute_result",
          "data": {
            "text/plain": [
              "Text(0, 0.5, 'CURRENT_HOUSE_YRS')"
            ]
          },
          "metadata": {},
          "execution_count": 28
        },
        {
          "output_type": "display_data",
          "data": {
            "text/plain": [
              "<Figure size 640x480 with 1 Axes>"
            ],
            "image/png": "[encoded data removed]"
          },
          "metadata": {}
        }
      ]
    },
    {
      "cell_type": "code",
      "source": [
        "df['Experience']"
      ],
      "metadata": {
        "colab": {
          "base_uri": "https://localhost:8080/"
        },
        "id": "6YlK1wQeijNQ",
        "outputId": "ff7a1239-794e-4136-af5f-d8e29eae0f55"
      },
      "execution_count": null,
      "outputs": [
        {
          "output_type": "execute_result",
          "data": {
            "text/plain": [
              "0          3\n",
              "1         10\n",
              "2          4\n",
              "3          2\n",
              "4         11\n",
              "          ..\n",
              "279995    13\n",
              "279996     9\n",
              "279997     5\n",
              "279998    13\n",
              "279999     9\n",
              "Name: Experience, Length: 280000, dtype: int64"
            ]
          },
          "metadata": {},
          "execution_count": 29
        }
      ]
    },
    {
      "cell_type": "code",
      "source": [
        "### NO OUTLIERS FOUND FOR CURRENT_HOUSE_YRS\n",
        "import seaborn as sns\n",
        "sns.boxplot(y = 'Experience', data = df)\n",
        "\n",
        "plt.boxplot(df['Experience'])\n",
        "\n",
        "plt.title('Experience')\n",
        "plt.ylabel('Experience')"
      ],
      "metadata": {
        "colab": {
          "base_uri": "https://localhost:8080/",
          "height": 469
        },
        "id": "suWs49QMiDe-",
        "outputId": "dc86a315-0f91-4e82-aafb-cfdbbb24404e"
      },
      "execution_count": null,
      "outputs": [
        {
          "output_type": "execute_result",
          "data": {
            "text/plain": [
              "Text(0, 0.5, 'Experience')"
            ]
          },
          "metadata": {},
          "execution_count": 30
        },
        {
          "output_type": "display_data",
          "data": {
            "text/plain": [
              "<Figure size 640x480 with 1 Axes>"
            ],
            "image/png": "[encoded data removed]"
          },
          "metadata": {}
        }
      ]
    },
    {
      "cell_type": "markdown",
      "source": [
        "# **Feature Engineering**"
      ],
      "metadata": {
        "id": "_n-krcbFAZSr"
      }
    },
    {
      "cell_type": "markdown",
      "source": [
        "With just 11 features on hand, I figured it'd be beneficial to dive into some meaningful machine learning feature engineering. The idea was to craft new features that could offer deeper insights and improve the overall predictive capabilities of the model."
      ],
      "metadata": {
        "id": "Wfu38vb8LBia"
      }
    },
    {
      "cell_type": "markdown",
      "source": [
        "I condensed the 'Experience_group' and 'age_groups' columns into three distinct groups each, a move aimed at simplifying the data for subsequent one-hot encoding."
      ],
      "metadata": {
        "id": "dsBHmAu_LF3u"
      }
    },
    {
      "cell_type": "code",
      "source": [
        "import pandas as pd\n",
        "\n",
        "# Define function to create experience groups\n",
        "def experience_group(x):\n",
        "    if x < 2:\n",
        "        return 'Entry-level'\n",
        "    elif 2 <= x < 5:\n",
        "        return 'Intermediate'\n",
        "    elif 5 <= x < 10:\n",
        "        return 'Mid-level'\n",
        "    else:\n",
        "        return 'Senior or executive-level'\n",
        "\n",
        "# Create Experience groups\n",
        "df['Experience_group'] = df['Experience'].apply(experience_group)\n",
        "\n",
        "# Define function to create age groups\n",
        "def age_group(x):\n",
        "    if x < 30:\n",
        "        return 'Young'\n",
        "    elif 30 <= x < 50:\n",
        "        return 'Middle-aged'\n",
        "    else:\n",
        "        return 'Elderly'\n",
        "\n",
        "# Create Age group\n",
        "df['Age_group'] = df['Age'].apply(age_group)\n",
        "\n",
        "# Display the updated dataframe\n",
        "print(df.head())\n"
      ],
      "metadata": {
        "colab": {
          "base_uri": "https://localhost:8080/"
        },
        "id": "6_2JP8tWAcLg",
        "outputId": "24da3351-2d56-4f81-c7d8-541665ea7172"
      },
      "execution_count": null,
      "outputs": [
        {
          "output_type": "stream",
          "name": "stdout",
          "text": [
            "   Id   Income  Age  Experience Married/Single House_Ownership Car_Ownership  \\\n",
            "0   1  1303834   23           3         single          rented            no   \n",
            "1   2  7574516   40          10         single          rented            no   \n",
            "2   3  3991815   66           4        married          rented            no   \n",
            "3   4  6256451   41           2         single          rented           yes   \n",
            "4   5  5768871   47          11         single          rented            no   \n",
            "\n",
            "            Profession             CITY           STATE  CURRENT_JOB_YRS  \\\n",
            "0  Mechanical_engineer             Rewa  Madhya_Pradesh                3   \n",
            "1   Software_Developer         Parbhani     Maharashtra                9   \n",
            "2     Technical_writer        Alappuzha          Kerala                4   \n",
            "3   Software_Developer      Bhubaneswar          Odisha                2   \n",
            "4        Civil_servant  Tiruchirappalli      Tamil_Nadu                3   \n",
            "\n",
            "   CURRENT_HOUSE_YRS  Risk_Flag           Experience_group    Age_group  \n",
            "0                 13          0               Intermediate        Young  \n",
            "1                 13          0  Senior or executive-level  Middle-aged  \n",
            "2                 10          0               Intermediate      Elderly  \n",
            "3                 12          1               Intermediate  Middle-aged  \n",
            "4                 14          1  Senior or executive-level  Middle-aged  \n"
          ]
        }
      ]
    },
    {
      "cell_type": "markdown",
      "metadata": {
        "id": "IrZ63iW3mbq0"
      },
      "source": [
        "## **Encoding**"
      ]
    },
    {
      "cell_type": "code",
      "execution_count": null,
      "metadata": {
        "colab": {
          "base_uri": "https://localhost:8080/"
        },
        "id": "fZAJSDymR-du",
        "outputId": "25cbe760-cf5f-43ac-cf4d-2459dee8a66b"
      },
      "outputs": [
        {
          "output_type": "stream",
          "name": "stdout",
          "text": [
            "Collecting category_encoders\n",
            "  Downloading category_encoders-2.6.3-py2.py3-none-any.whl (81 kB)\n",
            "\u001b[2K     \u001b[90m━━━━━━━━━━━━━━━━━━━━━━━━━━━━━━━━━━━━━━━━\u001b[0m \u001b[32m81.9/81.9 kB\u001b[0m \u001b[31m2.2 MB/s\u001b[0m eta \u001b[36m0:00:00\u001b[0m\n",
            "\u001b[?25hRequirement already satisfied: numpy>=1.14.0 in /usr/local/lib/python3.10/dist-packages (from category_encoders) (1.25.2)\n",
            "Requirement already satisfied: scikit-learn>=0.20.0 in /usr/local/lib/python3.10/dist-packages (from category_encoders) (1.2.2)\n",
            "Requirement already satisfied: scipy>=1.0.0 in /usr/local/lib/python3.10/dist-packages (from category_encoders) (1.11.4)\n",
            "Requirement already satisfied: statsmodels>=0.9.0 in /usr/local/lib/python3.10/dist-packages (from category_encoders) (0.14.1)\n",
            "Requirement already satisfied: pandas>=1.0.5 in /usr/local/lib/python3.10/dist-packages (from category_encoders) (1.5.3)\n",
            "Requirement already satisfied: patsy>=0.5.1 in /usr/local/lib/python3.10/dist-packages (from category_encoders) (0.5.6)\n",
            "Requirement already satisfied: python-dateutil>=2.8.1 in /usr/local/lib/python3.10/dist-packages (from pandas>=1.0.5->category_encoders) (2.8.2)\n",
            "Requirement already satisfied: pytz>=2020.1 in /usr/local/lib/python3.10/dist-packages (from pandas>=1.0.5->category_encoders) (2023.4)\n",
            "Requirement already satisfied: six in /usr/local/lib/python3.10/dist-packages (from patsy>=0.5.1->category_encoders) (1.16.0)\n",
            "Requirement already satisfied: joblib>=1.1.1 in /usr/local/lib/python3.10/dist-packages (from scikit-learn>=0.20.0->category_encoders) (1.3.2)\n",
            "Requirement already satisfied: threadpoolctl>=2.0.0 in /usr/local/lib/python3.10/dist-packages (from scikit-learn>=0.20.0->category_encoders) (3.3.0)\n",
            "Requirement already satisfied: packaging>=21.3 in /usr/local/lib/python3.10/dist-packages (from statsmodels>=0.9.0->category_encoders) (24.0)\n",
            "Installing collected packages: category_encoders\n",
            "Successfully installed category_encoders-2.6.3\n"
          ]
        }
      ],
      "source": [
        "!pip install category_encoders"
      ]
    },
    {
      "cell_type": "markdown",
      "source": [
        "Binary Encoding"
      ],
      "metadata": {
        "id": "4kBxp-4zT9-6"
      }
    },
    {
      "cell_type": "markdown",
      "source": [
        "I opted for binary encoding for 'Marital_Status' and 'Car_Ownership' since both variables had only two possible values."
      ],
      "metadata": {
        "id": "YPKKE1QlM_if"
      }
    },
    {
      "cell_type": "code",
      "execution_count": null,
      "metadata": {
        "id": "f1YTL7lbg5VD"
      },
      "outputs": [],
      "source": [
        "from sklearn import preprocessing\n",
        "from sklearn.preprocessing import LabelBinarizer\n",
        "\n",
        "# Rename the column\n",
        "df.rename(columns={\"Married/Single\": \"Marital_Status\"}, inplace=True)\n",
        "\n",
        "le_ms=preprocessing.LabelBinarizer()\n",
        "df[\"Marital_Status\"]=le_ms.fit_transform(df[\"Marital_Status\"])\n",
        "\n",
        "le_ms=preprocessing.LabelBinarizer()\n",
        "df[\"Car_Ownership\"]=le_ms.fit_transform(df[\"Car_Ownership\"])\n"
      ]
    },
    {
      "cell_type": "markdown",
      "source": [
        "Target Encoding"
      ],
      "metadata": {
        "id": "16wOHd5YUBZ3"
      }
    },
    {
      "cell_type": "markdown",
      "source": [
        "I chose target encoding for the 'Profession' feature due to its numerous unique values. Using one-hot encoding would have significantly increased computation time, making target encoding a more efficient alternative."
      ],
      "metadata": {
        "id": "V9pN0Dc0OMV_"
      }
    },
    {
      "cell_type": "code",
      "execution_count": null,
      "metadata": {
        "id": "Z1whjNCVR1rw"
      },
      "outputs": [],
      "source": [
        "import category_encoders as ce\n",
        "target_encoder = ce.TargetEncoder()\n",
        "\n",
        "# Fit target encoder on the entire dataset\n",
        "df['Profession_encoded'] = target_encoder.fit_transform(df['Profession'], df['Risk_Flag'])\n",
        "\n",
        "\n",
        "# Drop the original 'Profession' column\n",
        "df.drop('Profession', axis=1, inplace=True)"
      ]
    },
    {
      "cell_type": "markdown",
      "source": [
        "LabelEncoding"
      ],
      "metadata": {
        "id": "M1CCL2P9UDS0"
      }
    },
    {
      "cell_type": "markdown",
      "source": [
        "I did label encoding for the 'STATE' and 'CITY' columns, aiming to convert them into numeric representations. This step was necessary as I intended to use the SMOTE technique, which mandates all columns to be numeric."
      ],
      "metadata": {
        "id": "AgE39oOPeDUY"
      }
    },
    {
      "cell_type": "code",
      "execution_count": null,
      "metadata": {
        "id": "AlrTFOweS0py"
      },
      "outputs": [],
      "source": [
        "from sklearn.preprocessing import LabelEncoder\n",
        "\n",
        "features = ['CITY','STATE']\n",
        "label_encoder = LabelEncoder()\n",
        "\n",
        "for col in features:\n",
        "    df[col] = label_encoder.fit_transform(df[col])\n",
        "\n"
      ]
    },
    {
      "cell_type": "markdown",
      "source": [
        "One Hot Encoding"
      ],
      "metadata": {
        "id": "KIRh9NQqUFUK"
      }
    },
    {
      "cell_type": "markdown",
      "source": [
        "Then I performed one-hot encoding for the 'House_Ownership' column, along with the newly engineered features 'Age_group' and 'Experience_group'. This decision was motivated by the fact that these features had classes within the range of 2 to 6, making one-hot encoding a suitable method for handling categorical data."
      ],
      "metadata": {
        "id": "Zzohp2KFeGxh"
      }
    },
    {
      "cell_type": "code",
      "source": [
        "# One hot encoding\n",
        "df_encoded = pd.get_dummies(df['House_Ownership'], prefix='House_Ownership')\n",
        "\n",
        "# Concatenating the encoded columns with the original DataFrame\n",
        "df = pd.concat([df, df_encoded], axis=1)\n",
        "\n",
        "# Dropping the original categorical column\n",
        "df.drop('House_Ownership', axis=1, inplace=True)"
      ],
      "metadata": {
        "id": "Lyunb8_xCW5_"
      },
      "execution_count": null,
      "outputs": []
    },
    {
      "cell_type": "code",
      "source": [
        "# Perform one-hot encoding for both Age_group and Experience_group\n",
        "df = pd.get_dummies(df, columns=['Age_group', 'Experience_group'], drop_first=True)\n",
        "\n",
        "# Drop Age and Experience columns\n",
        "df.drop(['Age', 'Experience'], axis=1, inplace=True)\n",
        "\n",
        "# Display the updated dataframe\n",
        "print(df.head())"
      ],
      "metadata": {
        "colab": {
          "base_uri": "https://localhost:8080/"
        },
        "id": "jPp9JQgLBTvF",
        "outputId": "89429a2a-22f2-4732-b881-15c78eb07104"
      },
      "execution_count": null,
      "outputs": [
        {
          "output_type": "stream",
          "name": "stdout",
          "text": [
            "   Id   Income  Marital_Status  Car_Ownership  CITY  STATE  CURRENT_JOB_YRS  \\\n",
            "0   1  1303834               1              0   261     17                3   \n",
            "1   2  7574516               1              0   235     18                9   \n",
            "2   3  3991815               0              0     8     15                4   \n",
            "3   4  6256451               1              1    54     21                2   \n",
            "4   5  5768871               1              0   311     27                3   \n",
            "\n",
            "   CURRENT_HOUSE_YRS  Risk_Flag  Profession_encoded  \\\n",
            "0                 13          0            0.111558   \n",
            "1                 13          0            0.148427   \n",
            "2                 10          0            0.134167   \n",
            "3                 12          1            0.148427   \n",
            "4                 14          1            0.115794   \n",
            "\n",
            "   House_Ownership_norent_noown  House_Ownership_owned  \\\n",
            "0                             0                      0   \n",
            "1                             0                      0   \n",
            "2                             0                      0   \n",
            "3                             0                      0   \n",
            "4                             0                      0   \n",
            "\n",
            "   House_Ownership_rented  Age_group_Middle-aged  Age_group_Young  \\\n",
            "0                       1                      0                1   \n",
            "1                       1                      1                0   \n",
            "2                       1                      0                0   \n",
            "3                       1                      1                0   \n",
            "4                       1                      1                0   \n",
            "\n",
            "   Experience_group_Intermediate  Experience_group_Mid-level  \\\n",
            "0                              1                           0   \n",
            "1                              0                           0   \n",
            "2                              1                           0   \n",
            "3                              1                           0   \n",
            "4                              0                           0   \n",
            "\n",
            "   Experience_group_Senior or executive-level  \n",
            "0                                           0  \n",
            "1                                           1  \n",
            "2                                           0  \n",
            "3                                           0  \n",
            "4                                           1  \n"
          ]
        }
      ]
    },
    {
      "cell_type": "markdown",
      "source": [
        "# **Feature Scalling**"
      ],
      "metadata": {
        "id": "HPwfQt9iULcb"
      }
    },
    {
      "cell_type": "markdown",
      "source": [
        "I did both MinMaxScaler and StandardScaler for the columns that were not encoded. Opting for MinMaxScaler was driven by its ability to reduce training time more effectively compared to other scaling techniques."
      ],
      "metadata": {
        "id": "wJqr7s8XgYRs"
      }
    },
    {
      "cell_type": "code",
      "source": [
        "# from sklearn.preprocessing import StandardScaler\n",
        "\n",
        "# # Select the numerical features to scale\n",
        "# numerical_features = ['Income', 'CURRENT_JOB_YRS', 'CURRENT_HOUSE_YRS']\n",
        "\n",
        "# # Initialize the StandardScaler\n",
        "# scaler = StandardScaler()\n",
        "\n",
        "# # Fit the scaler on the numerical features in the original DataFrame and transform it\n",
        "# df[numerical_features] = scaler.fit_transform(df[numerical_features])\n"
      ],
      "metadata": {
        "id": "jzEETI2_pf24"
      },
      "execution_count": null,
      "outputs": []
    },
    {
      "cell_type": "code",
      "source": [
        "from sklearn.preprocessing import MinMaxScaler\n",
        "\n",
        "# Select the numerical features to scale\n",
        "numerical_features = ['Income', 'CURRENT_JOB_YRS', 'CURRENT_HOUSE_YRS']\n",
        "\n",
        "# Initialize the MinMaxScaler\n",
        "scaler = MinMaxScaler()\n",
        "\n",
        "# Fit the scaler on the numerical features in the original DataFrame and transform it\n",
        "df[numerical_features] = scaler.fit_transform(df[numerical_features])\n"
      ],
      "metadata": {
        "id": "evwh2sTLVHZX"
      },
      "execution_count": null,
      "outputs": []
    },
    {
      "cell_type": "code",
      "source": [
        "df"
      ],
      "metadata": {
        "colab": {
          "base_uri": "https://localhost:8080/",
          "height": 461
        },
        "id": "-Nhr7LBQqA4B",
        "outputId": "317bf770-ad67-4d91-ba0d-d593c88268e3"
      },
      "execution_count": null,
      "outputs": [
        {
          "output_type": "execute_result",
          "data": {
            "text/plain": [
              "            Id    Income  Marital_Status  Car_Ownership  CITY  STATE  \\\n",
              "0            1  0.129487               1              0   261     17   \n",
              "1            2  0.757206               1              0   235     18   \n",
              "2            3  0.398564               0              0     8     15   \n",
              "3            4  0.625263               1              1    54     21   \n",
              "4            5  0.576454               1              0   311     27   \n",
              "...        ...       ...             ...            ...   ...    ...   \n",
              "279995  279996  0.995550               1              0    91      0   \n",
              "279996  279997  0.291047               1              0   258     16   \n",
              "279997  279998  0.808049               1              0   194     18   \n",
              "279998  279999  0.947370               1              1    47      5   \n",
              "279999  280000  0.924963               1              0   217     18   \n",
              "\n",
              "        CURRENT_JOB_YRS  CURRENT_HOUSE_YRS  Risk_Flag  Profession_encoded  \\\n",
              "0              0.214286               0.75          0            0.111558   \n",
              "1              0.642857               0.75          0            0.148427   \n",
              "2              0.285714               0.00          0            0.134167   \n",
              "3              0.142857               0.50          1            0.148427   \n",
              "4              0.214286               1.00          1            0.115794   \n",
              "...                 ...                ...        ...                 ...   \n",
              "279995         0.357143               0.00          0            0.118401   \n",
              "279996         0.642857               1.00          1            0.136364   \n",
              "279997         0.285714               0.75          0            0.129880   \n",
              "279998         0.928571               1.00          0            0.130682   \n",
              "279999         0.285714               0.00          0            0.121693   \n",
              "\n",
              "        House_Ownership_norent_noown  House_Ownership_owned  \\\n",
              "0                                  0                      0   \n",
              "1                                  0                      0   \n",
              "2                                  0                      0   \n",
              "3                                  0                      0   \n",
              "4                                  0                      0   \n",
              "...                              ...                    ...   \n",
              "279995                             0                      0   \n",
              "279996                             0                      0   \n",
              "279997                             0                      0   \n",
              "279998                             0                      0   \n",
              "279999                             0                      0   \n",
              "\n",
              "        House_Ownership_rented  Age_group_Middle-aged  Age_group_Young  \\\n",
              "0                            1                      0                1   \n",
              "1                            1                      1                0   \n",
              "2                            1                      0                0   \n",
              "3                            1                      1                0   \n",
              "4                            1                      1                0   \n",
              "...                        ...                    ...              ...   \n",
              "279995                       1                      0                0   \n",
              "279996                       1                      1                0   \n",
              "279997                       1                      0                1   \n",
              "279998                       1                      0                0   \n",
              "279999                       1                      1                0   \n",
              "\n",
              "        Experience_group_Intermediate  Experience_group_Mid-level  \\\n",
              "0                                   1                           0   \n",
              "1                                   0                           0   \n",
              "2                                   1                           0   \n",
              "3                                   1                           0   \n",
              "4                                   0                           0   \n",
              "...                               ...                         ...   \n",
              "279995                              0                           0   \n",
              "279996                              0                           1   \n",
              "279997                              0                           1   \n",
              "279998                              0                           0   \n",
              "279999                              0                           1   \n",
              "\n",
              "        Experience_group_Senior or executive-level  \n",
              "0                                                0  \n",
              "1                                                1  \n",
              "2                                                0  \n",
              "3                                                0  \n",
              "4                                                1  \n",
              "...                                            ...  \n",
              "279995                                           1  \n",
              "279996                                           0  \n",
              "279997                                           0  \n",
              "279998                                           1  \n",
              "279999                                           0  \n",
              "\n",
              "[280000 rows x 18 columns]"
            ],
            "text/html": [
              "\n",
              "  <div id=\"df-60d9db35-5dd3-4a85-b92b-c59af8a90a7e\" class=\"colab-df-container\">\n",
              "    <div>\n",
              "<style scoped>\n",
              "    .dataframe tbody tr th:only-of-type {\n",
              "        vertical-align: middle;\n",
              "    }\n",
              "\n",
              "    .dataframe tbody tr th {\n",
              "        vertical-align: top;\n",
              "    }\n",
              "\n",
              "    .dataframe thead th {\n",
              "        text-align: right;\n",
              "    }\n",
              "</style>\n",
              "<table border=\"1\" class=\"dataframe\">\n",
              "  <thead>\n",
              "    <tr style=\"text-align: right;\">\n",
              "      <th></th>\n",
              "      <th>Id</th>\n",
              "      <th>Income</th>\n",
              "      <th>Marital_Status</th>\n",
              "      <th>Car_Ownership</th>\n",
              "      <th>CITY</th>\n",
              "      <th>STATE</th>\n",
              "      <th>CURRENT_JOB_YRS</th>\n",
              "      <th>CURRENT_HOUSE_YRS</th>\n",
              "      <th>Risk_Flag</th>\n",
              "      <th>Profession_encoded</th>\n",
              "      <th>House_Ownership_norent_noown</th>\n",
              "      <th>House_Ownership_owned</th>\n",
              "      <th>House_Ownership_rented</th>\n",
              "      <th>Age_group_Middle-aged</th>\n",
              "      <th>Age_group_Young</th>\n",
              "      <th>Experience_group_Intermediate</th>\n",
              "      <th>Experience_group_Mid-level</th>\n",
              "      <th>Experience_group_Senior or executive-level</th>\n",
              "    </tr>\n",
              "  </thead>\n",
              "  <tbody>\n",
              "    <tr>\n",
              "      <th>0</th>\n",
              "      <td>1</td>\n",
              "      <td>0.129487</td>\n",
              "      <td>1</td>\n",
              "      <td>0</td>\n",
              "      <td>261</td>\n",
              "      <td>17</td>\n",
              "      <td>0.214286</td>\n",
              "      <td>0.75</td>\n",
              "      <td>0</td>\n",
              "      <td>0.111558</td>\n",
              "      <td>0</td>\n",
              "      <td>0</td>\n",
              "      <td>1</td>\n",
              "      <td>0</td>\n",
              "      <td>1</td>\n",
              "      <td>1</td>\n",
              "      <td>0</td>\n",
              "      <td>0</td>\n",
              "    </tr>\n",
              "    <tr>\n",
              "      <th>1</th>\n",
              "      <td>2</td>\n",
              "      <td>0.757206</td>\n",
              "      <td>1</td>\n",
              "      <td>0</td>\n",
              "      <td>235</td>\n",
              "      <td>18</td>\n",
              "      <td>0.642857</td>\n",
              "      <td>0.75</td>\n",
              "      <td>0</td>\n",
              "      <td>0.148427</td>\n",
              "      <td>0</td>\n",
              "      <td>0</td>\n",
              "      <td>1</td>\n",
              "      <td>1</td>\n",
              "      <td>0</td>\n",
              "      <td>0</td>\n",
              "      <td>0</td>\n",
              "      <td>1</td>\n",
              "    </tr>\n",
              "    <tr>\n",
              "      <th>2</th>\n",
              "      <td>3</td>\n",
              "      <td>0.398564</td>\n",
              "      <td>0</td>\n",
              "      <td>0</td>\n",
              "      <td>8</td>\n",
              "      <td>15</td>\n",
              "      <td>0.285714</td>\n",
              "      <td>0.00</td>\n",
              "      <td>0</td>\n",
              "      <td>0.134167</td>\n",
              "      <td>0</td>\n",
              "      <td>0</td>\n",
              "      <td>1</td>\n",
              "      <td>0</td>\n",
              "      <td>0</td>\n",
              "      <td>1</td>\n",
              "      <td>0</td>\n",
              "      <td>0</td>\n",
              "    </tr>\n",
              "    <tr>\n",
              "      <th>3</th>\n",
              "      <td>4</td>\n",
              "      <td>0.625263</td>\n",
              "      <td>1</td>\n",
              "      <td>1</td>\n",
              "      <td>54</td>\n",
              "      <td>21</td>\n",
              "      <td>0.142857</td>\n",
              "      <td>0.50</td>\n",
              "      <td>1</td>\n",
              "      <td>0.148427</td>\n",
              "      <td>0</td>\n",
              "      <td>0</td>\n",
              "      <td>1</td>\n",
              "      <td>1</td>\n",
              "      <td>0</td>\n",
              "      <td>1</td>\n",
              "      <td>0</td>\n",
              "      <td>0</td>\n",
              "    </tr>\n",
              "    <tr>\n",
              "      <th>4</th>\n",
              "      <td>5</td>\n",
              "      <td>0.576454</td>\n",
              "      <td>1</td>\n",
              "      <td>0</td>\n",
              "      <td>311</td>\n",
              "      <td>27</td>\n",
              "      <td>0.214286</td>\n",
              "      <td>1.00</td>\n",
              "      <td>1</td>\n",
              "      <td>0.115794</td>\n",
              "      <td>0</td>\n",
              "      <td>0</td>\n",
              "      <td>1</td>\n",
              "      <td>1</td>\n",
              "      <td>0</td>\n",
              "      <td>0</td>\n",
              "      <td>0</td>\n",
              "      <td>1</td>\n",
              "    </tr>\n",
              "    <tr>\n",
              "      <th>...</th>\n",
              "      <td>...</td>\n",
              "      <td>...</td>\n",
              "      <td>...</td>\n",
              "      <td>...</td>\n",
              "      <td>...</td>\n",
              "      <td>...</td>\n",
              "      <td>...</td>\n",
              "      <td>...</td>\n",
              "      <td>...</td>\n",
              "      <td>...</td>\n",
              "      <td>...</td>\n",
              "      <td>...</td>\n",
              "      <td>...</td>\n",
              "      <td>...</td>\n",
              "      <td>...</td>\n",
              "      <td>...</td>\n",
              "      <td>...</td>\n",
              "      <td>...</td>\n",
              "    </tr>\n",
              "    <tr>\n",
              "      <th>279995</th>\n",
              "      <td>279996</td>\n",
              "      <td>0.995550</td>\n",
              "      <td>1</td>\n",
              "      <td>0</td>\n",
              "      <td>91</td>\n",
              "      <td>0</td>\n",
              "      <td>0.357143</td>\n",
              "      <td>0.00</td>\n",
              "      <td>0</td>\n",
              "      <td>0.118401</td>\n",
              "      <td>0</td>\n",
              "      <td>0</td>\n",
              "      <td>1</td>\n",
              "      <td>0</td>\n",
              "      <td>0</td>\n",
              "      <td>0</td>\n",
              "      <td>0</td>\n",
              "      <td>1</td>\n",
              "    </tr>\n",
              "    <tr>\n",
              "      <th>279996</th>\n",
              "      <td>279997</td>\n",
              "      <td>0.291047</td>\n",
              "      <td>1</td>\n",
              "      <td>0</td>\n",
              "      <td>258</td>\n",
              "      <td>16</td>\n",
              "      <td>0.642857</td>\n",
              "      <td>1.00</td>\n",
              "      <td>1</td>\n",
              "      <td>0.136364</td>\n",
              "      <td>0</td>\n",
              "      <td>0</td>\n",
              "      <td>1</td>\n",
              "      <td>1</td>\n",
              "      <td>0</td>\n",
              "      <td>0</td>\n",
              "      <td>1</td>\n",
              "      <td>0</td>\n",
              "    </tr>\n",
              "    <tr>\n",
              "      <th>279997</th>\n",
              "      <td>279998</td>\n",
              "      <td>0.808049</td>\n",
              "      <td>1</td>\n",
              "      <td>0</td>\n",
              "      <td>194</td>\n",
              "      <td>18</td>\n",
              "      <td>0.285714</td>\n",
              "      <td>0.75</td>\n",
              "      <td>0</td>\n",
              "      <td>0.129880</td>\n",
              "      <td>0</td>\n",
              "      <td>0</td>\n",
              "      <td>1</td>\n",
              "      <td>0</td>\n",
              "      <td>1</td>\n",
              "      <td>0</td>\n",
              "      <td>1</td>\n",
              "      <td>0</td>\n",
              "    </tr>\n",
              "    <tr>\n",
              "      <th>279998</th>\n",
              "      <td>279999</td>\n",
              "      <td>0.947370</td>\n",
              "      <td>1</td>\n",
              "      <td>1</td>\n",
              "      <td>47</td>\n",
              "      <td>5</td>\n",
              "      <td>0.928571</td>\n",
              "      <td>1.00</td>\n",
              "      <td>0</td>\n",
              "      <td>0.130682</td>\n",
              "      <td>0</td>\n",
              "      <td>0</td>\n",
              "      <td>1</td>\n",
              "      <td>0</td>\n",
              "      <td>0</td>\n",
              "      <td>0</td>\n",
              "      <td>0</td>\n",
              "      <td>1</td>\n",
              "    </tr>\n",
              "    <tr>\n",
              "      <th>279999</th>\n",
              "      <td>280000</td>\n",
              "      <td>0.924963</td>\n",
              "      <td>1</td>\n",
              "      <td>0</td>\n",
              "      <td>217</td>\n",
              "      <td>18</td>\n",
              "      <td>0.285714</td>\n",
              "      <td>0.00</td>\n",
              "      <td>0</td>\n",
              "      <td>0.121693</td>\n",
              "      <td>0</td>\n",
              "      <td>0</td>\n",
              "      <td>1</td>\n",
              "      <td>1</td>\n",
              "      <td>0</td>\n",
              "      <td>0</td>\n",
              "      <td>1</td>\n",
              "      <td>0</td>\n",
              "    </tr>\n",
              "  </tbody>\n",
              "</table>\n",
              "<p>280000 rows × 18 columns</p>\n",
              "</div>\n",
              "    <div class=\"colab-df-buttons\">\n",
              "\n",
              "  <div class=\"colab-df-container\">\n",
              "    <button class=\"colab-df-convert\" onclick=\"convertToInteractive('df-60d9db35-5dd3-4a85-b92b-c59af8a90a7e')\"\n",
              "            title=\"Convert this dataframe to an interactive table.\"\n",
              "            style=\"display:none;\">\n",
              "\n",
              "  <svg xmlns=\"http://www.w3.org/2000/svg\" height=\"24px\" viewBox=\"0 -960 960 960\">\n",
              "    <path d=\"M120-120v-720h720v720H120Zm60-500h600v-160H180v160Zm220 220h160v-160H400v160Zm0 220h160v-160H400v160ZM180-400h160v-160H180v160Zm440 0h160v-160H620v160ZM180-180h160v-160H180v160Zm440 0h160v-160H620v160Z\"/>\n",
              "  </svg>\n",
              "    </button>\n",
              "\n",
              "  <style>\n",
              "    .colab-df-container {\n",
              "      display:flex;\n",
              "      gap: 12px;\n",
              "    }\n",
              "\n",
              "    .colab-df-convert {\n",
              "      background-color: #E8F0FE;\n",
              "      border: none;\n",
              "      border-radius: 50%;\n",
              "      cursor: pointer;\n",
              "      display: none;\n",
              "      fill: #1967D2;\n",
              "      height: 32px;\n",
              "      padding: 0 0 0 0;\n",
              "      width: 32px;\n",
              "    }\n",
              "\n",
              "    .colab-df-convert:hover {\n",
              "      background-color: #E2EBFA;\n",
              "      box-shadow: 0px 1px 2px rgba(60, 64, 67, 0.3), 0px 1px 3px 1px rgba(60, 64, 67, 0.15);\n",
              "      fill: #174EA6;\n",
              "    }\n",
              "\n",
              "    .colab-df-buttons div {\n",
              "      margin-bottom: 4px;\n",
              "    }\n",
              "\n",
              "    [theme=dark] .colab-df-convert {\n",
              "      background-color: #3B4455;\n",
              "      fill: #D2E3FC;\n",
              "    }\n",
              "\n",
              "    [theme=dark] .colab-df-convert:hover {\n",
              "      background-color: #434B5C;\n",
              "      box-shadow: 0px 1px 3px 1px rgba(0, 0, 0, 0.15);\n",
              "      filter: drop-shadow(0px 1px 2px rgba(0, 0, 0, 0.3));\n",
              "      fill: #FFFFFF;\n",
              "    }\n",
              "  </style>\n",
              "\n",
              "    <script>\n",
              "      const buttonEl =\n",
              "        document.querySelector('#df-60d9db35-5dd3-4a85-b92b-c59af8a90a7e button.colab-df-convert');\n",
              "      buttonEl.style.display =\n",
              "        google.colab.kernel.accessAllowed ? 'block' : 'none';\n",
              "\n",
              "      async function convertToInteractive(key) {\n",
              "        const element = document.querySelector('#df-60d9db35-5dd3-4a85-b92b-c59af8a90a7e');\n",
              "        const dataTable =\n",
              "          await google.colab.kernel.invokeFunction('convertToInteractive',\n",
              "                                                    [key], {});\n",
              "        if (!dataTable) return;\n",
              "\n",
              "        const docLinkHtml = 'Like what you see? Visit the ' +\n",
              "          '<a target=\"_blank\" href=https://colab.research.google.com/notebooks/data_table.ipynb>data table notebook</a>'\n",
              "          + ' to learn more about interactive tables.';\n",
              "        element.innerHTML = '';\n",
              "        dataTable['output_type'] = 'display_data';\n",
              "        await google.colab.output.renderOutput(dataTable, element);\n",
              "        const docLink = document.createElement('div');\n",
              "        docLink.innerHTML = docLinkHtml;\n",
              "        element.appendChild(docLink);\n",
              "      }\n",
              "    </script>\n",
              "  </div>\n",
              "\n",
              "\n",
              "<div id=\"df-c7789df8-1fce-4669-ab5c-6156e0858aed\">\n",
              "  <button class=\"colab-df-quickchart\" onclick=\"quickchart('df-c7789df8-1fce-4669-ab5c-6156e0858aed')\"\n",
              "            title=\"Suggest charts\"\n",
              "            style=\"display:none;\">\n",
              "\n",
              "<svg xmlns=\"http://www.w3.org/2000/svg\" height=\"24px\"viewBox=\"0 0 24 24\"\n",
              "     width=\"24px\">\n",
              "    <g>\n",
              "        <path d=\"M19 3H5c-1.1 0-2 .9-2 2v14c0 1.1.9 2 2 2h14c1.1 0 2-.9 2-2V5c0-1.1-.9-2-2-2zM9 17H7v-7h2v7zm4 0h-2V7h2v10zm4 0h-2v-4h2v4z\"/>\n",
              "    </g>\n",
              "</svg>\n",
              "  </button>\n",
              "\n",
              "<style>\n",
              "  .colab-df-quickchart {\n",
              "      --bg-color: #E8F0FE;\n",
              "      --fill-color: #1967D2;\n",
              "      --hover-bg-color: #E2EBFA;\n",
              "      --hover-fill-color: #174EA6;\n",
              "      --disabled-fill-color: #AAA;\n",
              "      --disabled-bg-color: #DDD;\n",
              "  }\n",
              "\n",
              "  [theme=dark] .colab-df-quickchart {\n",
              "      --bg-color: #3B4455;\n",
              "      --fill-color: #D2E3FC;\n",
              "      --hover-bg-color: #434B5C;\n",
              "      --hover-fill-color: #FFFFFF;\n",
              "      --disabled-bg-color: #3B4455;\n",
              "      --disabled-fill-color: #666;\n",
              "  }\n",
              "\n",
              "  .colab-df-quickchart {\n",
              "    background-color: var(--bg-color);\n",
              "    border: none;\n",
              "    border-radius: 50%;\n",
              "    cursor: pointer;\n",
              "    display: none;\n",
              "    fill: var(--fill-color);\n",
              "    height: 32px;\n",
              "    padding: 0;\n",
              "    width: 32px;\n",
              "  }\n",
              "\n",
              "  .colab-df-quickchart:hover {\n",
              "    background-color: var(--hover-bg-color);\n",
              "    box-shadow: 0 1px 2px rgba(60, 64, 67, 0.3), 0 1px 3px 1px rgba(60, 64, 67, 0.15);\n",
              "    fill: var(--button-hover-fill-color);\n",
              "  }\n",
              "\n",
              "  .colab-df-quickchart-complete:disabled,\n",
              "  .colab-df-quickchart-complete:disabled:hover {\n",
              "    background-color: var(--disabled-bg-color);\n",
              "    fill: var(--disabled-fill-color);\n",
              "    box-shadow: none;\n",
              "  }\n",
              "\n",
              "  .colab-df-spinner {\n",
              "    border: 2px solid var(--fill-color);\n",
              "    border-color: transparent;\n",
              "    border-bottom-color: var(--fill-color);\n",
              "    animation:\n",
              "      spin 1s steps(1) infinite;\n",
              "  }\n",
              "\n",
              "  @keyframes spin {\n",
              "    0% {\n",
              "      border-color: transparent;\n",
              "      border-bottom-color: var(--fill-color);\n",
              "      border-left-color: var(--fill-color);\n",
              "    }\n",
              "    20% {\n",
              "      border-color: transparent;\n",
              "      border-left-color: var(--fill-color);\n",
              "      border-top-color: var(--fill-color);\n",
              "    }\n",
              "    30% {\n",
              "      border-color: transparent;\n",
              "      border-left-color: var(--fill-color);\n",
              "      border-top-color: var(--fill-color);\n",
              "      border-right-color: var(--fill-color);\n",
              "    }\n",
              "    40% {\n",
              "      border-color: transparent;\n",
              "      border-right-color: var(--fill-color);\n",
              "      border-top-color: var(--fill-color);\n",
              "    }\n",
              "    60% {\n",
              "      border-color: transparent;\n",
              "      border-right-color: var(--fill-color);\n",
              "    }\n",
              "    80% {\n",
              "      border-color: transparent;\n",
              "      border-right-color: var(--fill-color);\n",
              "      border-bottom-color: var(--fill-color);\n",
              "    }\n",
              "    90% {\n",
              "      border-color: transparent;\n",
              "      border-bottom-color: var(--fill-color);\n",
              "    }\n",
              "  }\n",
              "</style>\n",
              "\n",
              "  <script>\n",
              "    async function quickchart(key) {\n",
              "      const quickchartButtonEl =\n",
              "        document.querySelector('#' + key + ' button');\n",
              "      quickchartButtonEl.disabled = true;  // To prevent multiple clicks.\n",
              "      quickchartButtonEl.classList.add('colab-df-spinner');\n",
              "      try {\n",
              "        const charts = await google.colab.kernel.invokeFunction(\n",
              "            'suggestCharts', [key], {});\n",
              "      } catch (error) {\n",
              "        console.error('Error during call to suggestCharts:', error);\n",
              "      }\n",
              "      quickchartButtonEl.classList.remove('colab-df-spinner');\n",
              "      quickchartButtonEl.classList.add('colab-df-quickchart-complete');\n",
              "    }\n",
              "    (() => {\n",
              "      let quickchartButtonEl =\n",
              "        document.querySelector('#df-c7789df8-1fce-4669-ab5c-6156e0858aed button');\n",
              "      quickchartButtonEl.style.display =\n",
              "        google.colab.kernel.accessAllowed ? 'block' : 'none';\n",
              "    })();\n",
              "  </script>\n",
              "</div>\n",
              "    </div>\n",
              "  </div>\n"
            ],
            "application/vnd.google.colaboratory.intrinsic+json": {
              "type": "dataframe",
              "variable_name": "df"
            }
          },
          "metadata": {},
          "execution_count": 40
        }
      ]
    },
    {
      "cell_type": "markdown",
      "source": [
        "# **Model Building**"
      ],
      "metadata": {
        "id": "eP8xy3k6L4UB"
      }
    },
    {
      "cell_type": "markdown",
      "source": [
        "Since the dataset exhibits imbalance, I applied the SMOTE technique to address this issue. SMOTE involves introducing synthetic instances to balance out the distribution of the target variable."
      ],
      "metadata": {
        "id": "IExowr5VTb8c"
      }
    },
    {
      "cell_type": "code",
      "source": [
        "# Define your feature matrix X and target variable y\n",
        "X = df.drop('Risk_Flag', axis=1)\n",
        "y = df['Risk_Flag']"
      ],
      "metadata": {
        "id": "qdIe6Lz3cYle"
      },
      "execution_count": null,
      "outputs": []
    },
    {
      "cell_type": "code",
      "source": [
        "from sklearn.model_selection import train_test_split\n",
        "from imblearn.over_sampling import SMOTE\n",
        "import matplotlib.pyplot as plt\n",
        "\n",
        "# Apply SMOTE to the training data only\n",
        "smote = SMOTE(random_state=52)\n",
        "X_resampled, y_resampled = smote.fit_resample(X, y)"
      ],
      "metadata": {
        "id": "j2hnvuM29LCe"
      },
      "execution_count": null,
      "outputs": []
    },
    {
      "cell_type": "markdown",
      "source": [
        "Train, test split (80:20)"
      ],
      "metadata": {
        "id": "M4dYG_xsQGxk"
      }
    },
    {
      "cell_type": "code",
      "source": [
        "from sklearn.model_selection import train_test_split\n",
        "\n",
        "\n",
        "X_train_resampled, X_test_resampled, y_train_resampled, y_test_resampled = train_test_split(X_resampled, y_resampled, test_size=0.2, random_state=52)"
      ],
      "metadata": {
        "id": "q_DzvgJX9Ya7"
      },
      "execution_count": null,
      "outputs": []
    },
    {
      "cell_type": "markdown",
      "source": [
        "## Here are some key terminologies to be familiar with before diving into model building"
      ],
      "metadata": {
        "id": "ByfhiaDRkBeM"
      }
    },
    {
      "cell_type": "markdown",
      "source": [
        "##  Confusion Matrix:\n",
        "    \n",
        "  A confusion matrix is a table that summarizes the performance of a classification model.\n",
        "  \n",
        "  It presents the counts of true positives (TP), true negatives (TN), false positives (FP), and false negatives (FN).\n",
        "\n",
        "## True Positive (TP):\n",
        "  The number of correctly predicted positive instances by the model.\n",
        "\n",
        "## True Negative (TN):\n",
        "  The number of correctly predicted negative instances by the model.\n",
        "\n",
        "## False Positive (FP):\n",
        "  The number of negative instances incorrectly classified as positive by the model (Type I error).\n",
        "\n",
        "## False Negative (FN):\n",
        "  The number of positive instances incorrectly classified as negative by the model (Type II error).\n",
        "\n",
        "## Precision (also called Positive Predictive Value):\n",
        "  Precision is the ratio of true positive predictions to the total number of positive predictions made by the model.\n",
        "  \n",
        "  Formula: Precision = TP / (TP + FP)\n",
        "\n",
        "## Recall (also called Sensitivity or True Positive Rate):\n",
        "  Recall is the ratio of true positive predictions to the total number of actual positive instances in the data.\n",
        "  \n",
        "  Formula: Recall = TP / (TP + FN)\n",
        "\n",
        "## Specificity (also called True Negative Rate):\n",
        "  Specificity measures the proportion of actual negative instances that are correctly identified by the model.\n",
        "  \n",
        "  Formula: Specificity = TN / (TN + FP)\n",
        "\n",
        "## F1 Score:\n",
        "  F1 score is the harmonic mean of precision and recall, providing a balance between the two metrics.\n",
        "  \n",
        "  Formula: F1 Score = 2 * (Precision * Recall) / (Precision + Recall)\n",
        "\n",
        "## Accuracy:\n",
        "\n",
        "  Accuracy measures the overall correctness of the model, i.e., the ratio of correct predictions to the total number of predictions.\n",
        "  \n",
        "  Formula: Accuracy = (TP + TN) / (TP + TN + FP + FN)"
      ],
      "metadata": {
        "id": "6-jf0urQjclu"
      }
    },
    {
      "cell_type": "markdown",
      "source": [
        "# **1) Extra tree**"
      ],
      "metadata": {
        "id": "3kZi4Uisg7XX"
      }
    },
    {
      "cell_type": "markdown",
      "source": [
        "I chose Extra Trees because it adds even more randomness compared to Random Forests. In Random Forests, each decision tree considers only a random subset of features when deciding how to split at each node. But with Extra Trees, it goes a step further. Not only does it pick random subsets of features, but it also randomly selects thresholds for each feature's split points instead of choosing the best possible one.\n",
        "\n",
        "This extra randomness helps make the model more flexible and less prone to memorizing the training data, which can lead to overfitting. By encouraging the trees to be more diverse and less similar to each other, Extra Trees aims to improve the model's ability to make accurate predictions on new, unseen data."
      ],
      "metadata": {
        "id": "f9ip6c_ci8LL"
      }
    },
    {
      "cell_type": "code",
      "source": [
        "from sklearn.ensemble import ExtraTreesClassifier\n",
        "from sklearn.metrics import accuracy_score, classification_report, confusion_matrix, precision_score, recall_score\n",
        "\n",
        "# Initialize Extra Trees classifier\n",
        "extra_trees_classifier = ExtraTreesClassifier()\n",
        "\n",
        "# Train the classifier\n",
        "extra_trees_classifier.fit(X_train_resampled, y_train_resampled)\n",
        "\n",
        "# Predict on the test set\n",
        "y_pred = extra_trees_classifier.predict(X_test_resampled)\n",
        "\n",
        "# Calculate accuracy\n",
        "extra_tree_accuracy = accuracy_score(y_test_resampled, y_pred)\n",
        "\n",
        "# Print accuracy\n",
        "print(\"Accuracy:\", extra_tree_accuracy)\n",
        "\n",
        "# Print classification report\n",
        "print(\"\\nClassification Report:\")\n",
        "print(classification_report(y_test_resampled, y_pred))\n",
        "\n",
        "# Print confusion matrix\n",
        "print(\"\\nConfusion Matrix:\")\n",
        "print(confusion_matrix(y_test_resampled, y_pred))\n",
        "\n",
        "# Calculate precision\n",
        "precision = precision_score(y_test_resampled, y_pred)\n",
        "\n",
        "# Calculate recall\n",
        "recall = recall_score(y_test_resampled, y_pred)\n",
        "\n",
        "# Print precision and recall\n",
        "print(\"\\nPrecision:\", precision)\n",
        "print(\"Recall:\", recall)\n"
      ],
      "metadata": {
        "id": "UkRWW9Vvf6ar",
        "colab": {
          "base_uri": "https://localhost:8080/"
        },
        "outputId": "0d1be4f5-535c-4b41-f89c-3fe6c2d5460a"
      },
      "execution_count": null,
      "outputs": [
        {
          "output_type": "stream",
          "name": "stdout",
          "text": [
            "Accuracy: 0.9321244842866602\n",
            "\n",
            "Classification Report:\n",
            "              precision    recall  f1-score   support\n",
            "\n",
            "           0       0.92      0.95      0.93     48914\n",
            "           1       0.94      0.92      0.93     49251\n",
            "\n",
            "    accuracy                           0.93     98165\n",
            "   macro avg       0.93      0.93      0.93     98165\n",
            "weighted avg       0.93      0.93      0.93     98165\n",
            "\n",
            "\n",
            "Confusion Matrix:\n",
            "[[46260  2654]\n",
            " [ 4009 45242]]\n",
            "\n",
            "Precision: 0.9445882745949558\n",
            "Recall: 0.9186006375505066\n"
          ]
        }
      ]
    },
    {
      "cell_type": "markdown",
      "source": [
        "# **2) K Nearest Neighbour (KNN)**"
      ],
      "metadata": {
        "id": "mtA_PRSnBAbd"
      }
    },
    {
      "cell_type": "code",
      "source": [
        "from sklearn.neighbors import KNeighborsClassifier\n",
        "from sklearn.metrics import accuracy_score, classification_report, confusion_matrix\n",
        "\n",
        "knn_classifier = KNeighborsClassifier()\n",
        "\n",
        "knn_classifier.fit(X_train_resampled, y_train_resampled)\n",
        "\n",
        "y_pred_resampled = knn_classifier.predict(X_test_resampled)\n",
        "\n",
        "knn_accuracy = accuracy_score(y_test_resampled, y_pred_resampled)\n",
        "\n",
        "print(\"Accuracy:\", knn_accuracy)\n",
        "\n",
        "print(\"\\nClassification Report:\")\n",
        "print(classification_report(y_test_resampled, y_pred_resampled))\n",
        "\n",
        "print(\"\\nConfusion Matrix:\")\n",
        "print(confusion_matrix(y_test_resampled, y_pred_resampled))\n"
      ],
      "metadata": {
        "id": "RGOji9OTAqJD",
        "colab": {
          "base_uri": "https://localhost:8080/"
        },
        "outputId": "607c24fb-1474-4b6e-ba4f-748de123d058"
      },
      "execution_count": null,
      "outputs": [
        {
          "output_type": "stream",
          "name": "stdout",
          "text": [
            "Accuracy: 0.777334080374879\n",
            "\n",
            "Classification Report:\n",
            "              precision    recall  f1-score   support\n",
            "\n",
            "           0       0.87      0.65      0.75     48914\n",
            "           1       0.72      0.90      0.80     49251\n",
            "\n",
            "    accuracy                           0.78     98165\n",
            "   macro avg       0.80      0.78      0.77     98165\n",
            "weighted avg       0.80      0.78      0.77     98165\n",
            "\n",
            "\n",
            "Confusion Matrix:\n",
            "[[31949 16965]\n",
            " [ 4893 44358]]\n"
          ]
        }
      ]
    },
    {
      "cell_type": "markdown",
      "source": [
        "# **3) Random forest**\n",
        "\n"
      ],
      "metadata": {
        "id": "9x0Dkl_XHIBU"
      }
    },
    {
      "cell_type": "code",
      "source": [
        "from sklearn.ensemble import RandomForestClassifier\n",
        "from sklearn.metrics import accuracy_score, classification_report, confusion_matrix\n",
        "\n",
        "rf_classifier = RandomForestClassifier(random_state=32)\n",
        "\n",
        "rf_classifier.fit(X_train_resampled, y_train_resampled)\n",
        "\n",
        "y_pred_resampled = rf_classifier.predict(X_test_resampled)\n",
        "\n",
        "random_forest_accuracy = accuracy_score(y_test_resampled, y_pred_resampled)\n",
        "\n",
        "print(\"Accuracy:\", random_forest_accuracy)\n",
        "\n",
        "print(\"\\nClassification Report:\")\n",
        "print(classification_report(y_test_resampled, y_pred_resampled))\n",
        "\n",
        "print(\"\\nConfusion Matrix:\")\n",
        "print(confusion_matrix(y_test_resampled, y_pred_resampled))\n"
      ],
      "metadata": {
        "id": "Mm8YmJdNFmZp",
        "colab": {
          "base_uri": "https://localhost:8080/"
        },
        "outputId": "28f38a06-0811-4e29-a82b-94d8f8473806"
      },
      "execution_count": null,
      "outputs": [
        {
          "output_type": "stream",
          "name": "stdout",
          "text": [
            "Accuracy: 0.9359242092395457\n",
            "\n",
            "Classification Report:\n",
            "              precision    recall  f1-score   support\n",
            "\n",
            "           0       0.92      0.96      0.94     48914\n",
            "           1       0.95      0.92      0.93     49251\n",
            "\n",
            "    accuracy                           0.94     98165\n",
            "   macro avg       0.94      0.94      0.94     98165\n",
            "weighted avg       0.94      0.94      0.94     98165\n",
            "\n",
            "\n",
            "Confusion Matrix:\n",
            "[[46729  2185]\n",
            " [ 4105 45146]]\n"
          ]
        }
      ]
    },
    {
      "cell_type": "markdown",
      "source": [
        "# **4) Decision Tree**"
      ],
      "metadata": {
        "id": "5rYq8Xg4HPDQ"
      }
    },
    {
      "cell_type": "code",
      "source": [
        "from sklearn.tree import DecisionTreeClassifier\n",
        "from sklearn.metrics import accuracy_score, classification_report, confusion_matrix\n",
        "\n",
        "dt_classifier = DecisionTreeClassifier(random_state=32)\n",
        "\n",
        "dt_classifier.fit(X_train_resampled, y_train_resampled)\n",
        "\n",
        "y_pred_resampled = dt_classifier.predict(X_test_resampled)\n",
        "\n",
        "decision_tree_accuracy = accuracy_score(y_test_resampled, y_pred_resampled)\n",
        "\n",
        "print(\"Accuracy:\", decision_tree_accuracy)\n",
        "\n",
        "print(\"\\nClassification Report:\")\n",
        "print(classification_report(y_test_resampled, y_pred_resampled))\n",
        "\n",
        "print(\"\\nConfusion Matrix:\")\n",
        "print(confusion_matrix(y_test_resampled, y_pred_resampled))\n"
      ],
      "metadata": {
        "id": "suu8liHhHPwb",
        "colab": {
          "base_uri": "https://localhost:8080/"
        },
        "outputId": "1b958046-c25b-4bb0-f782-d5c10e3ea378"
      },
      "execution_count": null,
      "outputs": [
        {
          "output_type": "stream",
          "name": "stdout",
          "text": [
            "Accuracy: 0.9241786787551571\n",
            "\n",
            "Classification Report:\n",
            "              precision    recall  f1-score   support\n",
            "\n",
            "           0       0.92      0.92      0.92     48914\n",
            "           1       0.92      0.92      0.92     49251\n",
            "\n",
            "    accuracy                           0.92     98165\n",
            "   macro avg       0.92      0.92      0.92     98165\n",
            "weighted avg       0.92      0.92      0.92     98165\n",
            "\n",
            "\n",
            "Confusion Matrix:\n",
            "[[45188  3726]\n",
            " [ 3717 45534]]\n"
          ]
        }
      ]
    },
    {
      "cell_type": "markdown",
      "source": [
        "# **5) Bernoulli NB**"
      ],
      "metadata": {
        "id": "kll5OOXMHiCT"
      }
    },
    {
      "cell_type": "code",
      "source": [
        "from sklearn.naive_bayes import BernoulliNB\n",
        "from sklearn.metrics import accuracy_score\n",
        "\n",
        "bernoulli_nb = BernoulliNB()\n",
        "\n",
        "bernoulli_nb.fit(X_train_resampled, y_train_resampled)\n",
        "\n",
        "y_pred = bernoulli_nb.predict(X_test_resampled)\n",
        "\n",
        "bernoulli_accuracy = accuracy_score(y_test_resampled, y_pred)\n",
        "print(\"Accuracy:\", bernoulli_accuracy)\n",
        "\n",
        "print(\"Confusion Matrix:\")\n",
        "print(confusion_matrix(y_test_resampled, y_pred))\n",
        "\n",
        "print(\"\\nClassification Report:\")\n",
        "print(classification_report(y_test_resampled, y_pred))\n"
      ],
      "metadata": {
        "id": "Q-ux1E0Ys4AB",
        "colab": {
          "base_uri": "https://localhost:8080/"
        },
        "outputId": "48bc90a6-192a-40c4-bbbe-25640858e45d"
      },
      "execution_count": null,
      "outputs": [
        {
          "output_type": "stream",
          "name": "stdout",
          "text": [
            "Accuracy: 0.7630418173483421\n",
            "Confusion Matrix:\n",
            "[[35574 13340]\n",
            " [ 9921 39330]]\n",
            "\n",
            "Classification Report:\n",
            "              precision    recall  f1-score   support\n",
            "\n",
            "           0       0.78      0.73      0.75     48914\n",
            "           1       0.75      0.80      0.77     49251\n",
            "\n",
            "    accuracy                           0.76     98165\n",
            "   macro avg       0.76      0.76      0.76     98165\n",
            "weighted avg       0.76      0.76      0.76     98165\n",
            "\n"
          ]
        }
      ]
    },
    {
      "cell_type": "code",
      "source": [
        "import matplotlib.pyplot as plt\n",
        "\n",
        "models = ['Random Forest', 'Decision Tree', 'bernoulli', 'KNN', 'extra_tree']\n",
        "accuracies = [random_forest_accuracy, decision_tree_accuracy, bernoulli_accuracy, knn_accuracy, extra_tree_accuracy]\n",
        "\n",
        "colors = ['blue', 'green', 'red', 'purple', 'orange']\n",
        "\n",
        "plt.figure(figsize=(10, 6))\n",
        "plt.bar(models, accuracies, color=colors)\n",
        "\n",
        "plt.xlabel('Models')\n",
        "plt.ylabel('Accuracy')\n",
        "plt.title('Accuracy of Different Models')\n",
        "plt.ylim(0, 1)  # Set y-axis limit to ensure all accuracies are visible\n",
        "plt.grid(axis='y')  # Add gridlines along the y-axis\n",
        "\n",
        "# Show the plot\n",
        "plt.show()\n"
      ],
      "metadata": {
        "id": "KE9n2pWCRqag",
        "colab": {
          "base_uri": "https://localhost:8080/",
          "height": 564
        },
        "outputId": "ce337edc-584e-418b-ee7e-8e2b0955bbdf"
      },
      "execution_count": null,
      "outputs": [
        {
          "output_type": "display_data",
          "data": {
            "text/plain": [
              "<Figure size 1000x600 with 1 Axes>"
            ],
            "image/png": "[encoded data removed]"
          },
          "metadata": {}
        }
      ]
    },
    {
      "cell_type": "markdown",
      "source": [
        "# **As evident from the results, the Extra Trees model stands out as the top performer among the five models evaluated.**"
      ],
      "metadata": {
        "id": "6STYDj7MG3za"
      }
    },
    {
      "cell_type": "markdown",
      "source": [
        "As per my analysis the lower performance of Naive Bayes and KNN compared to tree-based models could be attributed to the fact that these models are sensitive to the relationships between features and the target variable. If the features are not strongly related or predictive of the target variable, Naive Bayes and KNN may struggle to accurately capture the underlying patterns. This could be due to violations of the independence assumption in Naive Bayes, the curse of dimensionality affecting KNN, or the complexity of the data distribution. Additionally, these models may benefit from feature engineering techniques to extract more informative features from the data."
      ],
      "metadata": {
        "id": "IWTXgO3pmV10"
      }
    },
    {
      "cell_type": "markdown",
      "source": [
        "# ROC curve for Extra Tree"
      ],
      "metadata": {
        "id": "_bGeI_WsyD86"
      }
    },
    {
      "cell_type": "code",
      "source": [
        "from sklearn.metrics import roc_auc_score, roc_curve\n",
        "\n",
        "# Calculate AUC score\n",
        "auc_score = roc_auc_score(y_test_resampled, extra_trees_classifier.predict_proba(X_test_resampled)[:,1])\n",
        "print(\"AUC Score:\", auc_score)\n",
        "\n",
        "# Calculate ROC curve\n",
        "fpr, tpr, thresholds = roc_curve(y_test_resampled, extra_trees_classifier.predict_proba(X_test_resampled)[:,1])\n",
        "\n",
        "# Plot ROC curve\n",
        "plt.figure(figsize=(8, 6))\n",
        "plt.plot(fpr, tpr, color='blue', lw=2, label='ROC curve (AUC = %0.2f)' % auc_score)\n",
        "plt.plot([0, 1], [0, 1], color='red', lw=2, linestyle='--')\n",
        "plt.xlim([0.0, 1.0])\n",
        "plt.ylim([0.0, 1.05])\n",
        "plt.xlabel('False Positive Rate')\n",
        "plt.ylabel('True Positive Rate')\n",
        "plt.title('Receiver Operating Characteristic (ROC) Curve')\n",
        "plt.legend(loc=\"lower right\")\n",
        "plt.show()\n"
      ],
      "metadata": {
        "colab": {
          "base_uri": "https://localhost:8080/",
          "height": 581
        },
        "id": "Hu1eZl7D6MNz",
        "outputId": "56880ca3-ae6d-4f95-c306-7e12fa3c0cfc"
      },
      "execution_count": null,
      "outputs": [
        {
          "output_type": "stream",
          "name": "stdout",
          "text": [
            "AUC Score: 0.9735833807320442\n"
          ]
        },
        {
          "output_type": "display_data",
          "data": {
            "text/plain": [
              "<Figure size 800x600 with 1 Axes>"
            ],
            "image/png": "[encoded data removed]"
          },
          "metadata": {}
        }
      ]
    },
    {
      "cell_type": "markdown",
      "source": [
        "I used ROC score as well due to the dataset's imbalance. ROC evaluates classifier performance across thresholds, vital for imbalanced data. Traditional metrics can mislead in such cases. ROC/AUC offer nuanced evaluation by considering sensitivity and specificity across thresholds, ensuring robust classification in imbalanced datasets."
      ],
      "metadata": {
        "id": "N2NPr7AAmdO9"
      }
    },
    {
      "cell_type": "markdown",
      "source": [
        "# **Hypertuning**"
      ],
      "metadata": {
        "id": "YA85NgvuGtUl"
      }
    },
    {
      "cell_type": "markdown",
      "source": [
        "# **Hypertuning using Xgboost as it has GPU accelaration**\n"
      ],
      "metadata": {
        "id": "P_E0pjbZDqRE"
      }
    },
    {
      "cell_type": "markdown",
      "source": [
        "I opted for XGBoost over further enhancing Extra Trees because XGBoost offers 'gpu_hist', leveraging GPU acceleration. This was essential as my dataset expanded to 400,000 rows after SMOTE, necessitating GPU utilization for efficient computation."
      ],
      "metadata": {
        "id": "Ks8vAi7BnZcC"
      }
    },
    {
      "cell_type": "markdown",
      "source": [
        "I used L1 and L2 regularization parameters (reg_alpha and reg_lambda) in the parameter grid because I wanted to mitigate overfitting. L1 regularization (reg_alpha) adds a penalty equivalent to the absolute value of the magnitude of coefficients, promoting sparsity in feature selection. L2 regularization (reg_lambda) adds a penalty equivalent to the square of the magnitude of coefficients, encouraging smaller weights for features. By incorporating both regularization techniques, the model can effectively control overfitting and improve generalization performance on unseen data."
      ],
      "metadata": {
        "id": "DFg6ZRCintBn"
      }
    },
    {
      "cell_type": "code",
      "source": [
        "from sklearn.model_selection import train_test_split, RandomizedSearchCV\n",
        "from scipy.stats import randint, uniform\n",
        "from xgboost import XGBClassifier\n",
        "from sklearn.metrics import accuracy_score, precision_score, recall_score\n",
        "\n",
        "# Define the hyperparameter grid\n",
        "param_grid = {\n",
        "    'learning_rate': uniform(0.01, 0.3),# Learning rate: controls how fast the model learns.\n",
        "    'n_estimators': randint(50, 200), # Number of trees in the random forest.\n",
        "    'max_depth': randint(1, 2), # Maximum depth of each tree.\n",
        "    'min_child_weight': randint(1, 10), # Minimum number of samples required to split an internal node.\n",
        "    'gamma': uniform(0, 0.2), # Regularization parameter to control overfitting.\n",
        "    'subsample': uniform(0.6, 0.4), # Fraction of samples to use for training each tree.\n",
        "    'colsample_bytree': uniform(0.6, 0.4), # Fraction of features to use for training each tree.\n",
        "    'reg_alpha': uniform(0, 1),  # L1 regularization parameter\n",
        "    'reg_lambda': uniform(0, 1)  # L2 regularization parameter\n",
        "}\n",
        "\n",
        "# Initialize RandomizedSearchCV\n",
        "random_search = RandomizedSearchCV(\n",
        "    estimator=XGBClassifier(random_state=42, tree_method='gpu_hist'),\n",
        "    param_distributions=param_grid,\n",
        "    n_iter=20,\n",
        "    scoring='accuracy',\n",
        "    cv=4,  # 4-fold cross-validation\n",
        "    verbose=2,\n",
        "    n_jobs=-1  # Utilize all available CPU cores\n",
        ")\n",
        "\n",
        "# Perform random search to find the best hyperparameters\n",
        "random_search.fit(X_train_resampled, y_train_resampled)\n",
        "\n",
        "# Print the best parameters found\n",
        "print(\"Best Parameters:\", random_search.best_params_)\n",
        "\n",
        "# Evaluate the best model\n",
        "best_model = random_search.best_estimator_\n",
        "\n",
        "y_pred_best = best_model.predict(X_test_resampled)\n",
        "\n",
        "# Calculate accuracy on the testing data\n",
        "accuracy_best = accuracy_score(y_test_resampled, y_pred_best)\n",
        "print(\"Accuracy (Best Model):\", accuracy_best)\n",
        "\n",
        "# Calculate precision and recall on the testing data\n",
        "precision_best = precision_score(y_test_resampled, y_pred_best)\n",
        "recall_best = recall_score(y_test_resampled, y_pred_best)\n",
        "\n",
        "print(\"Precision (Best Model):\", precision_best)\n",
        "print(\"Recall (Best Model):\", recall_best)\n"
      ],
      "metadata": {
        "id": "MbjuftwqDr9w",
        "colab": {
          "base_uri": "https://localhost:8080/"
        },
        "outputId": "eadcfe39-4c9e-4649-b5ee-711fdaaf0dd4"
      },
      "execution_count": null,
      "outputs": [
        {
          "output_type": "stream",
          "name": "stdout",
          "text": [
            "Fitting 4 folds for each of 20 candidates, totalling 80 fits\n"
          ]
        },
        {
          "output_type": "stream",
          "name": "stderr",
          "text": [
            "/usr/local/lib/python3.10/dist-packages/xgboost/core.py:160: UserWarning: [05:59:15] WARNING: /workspace/src/common/error_msg.cc:27: The tree method `gpu_hist` is deprecated since 2.0.0. To use GPU training, set the `device` parameter to CUDA instead.\n",
            "\n",
            "    E.g. tree_method = \"hist\", device = \"cuda\"\n",
            "\n",
            "  warnings.warn(smsg, UserWarning)\n"
          ]
        },
        {
          "output_type": "stream",
          "name": "stdout",
          "text": [
            "Best Parameters: {'colsample_bytree': 0.8368594206626921, 'gamma': 0.04524270976111866, 'learning_rate': 0.23411864033263313, 'max_depth': 1, 'min_child_weight': 5, 'n_estimators': 165, 'reg_alpha': 0.5305900857973187, 'reg_lambda': 0.6792241062184781, 'subsample': 0.6411730994956326}\n",
            "Accuracy (Best Model): 0.8778688942087302\n",
            "Precision (Best Model): 0.9728440180701488\n",
            "Recall (Best Model): 0.7782989177884713\n"
          ]
        },
        {
          "output_type": "stream",
          "name": "stderr",
          "text": [
            "/usr/local/lib/python3.10/dist-packages/xgboost/core.py:160: UserWarning: [05:59:15] WARNING: /workspace/src/common/error_msg.cc:58: Falling back to prediction using DMatrix due to mismatched devices. This might lead to higher memory usage and slower performance. XGBoost is running on: cuda:0, while the input data is on: cpu.\n",
            "Potential solutions:\n",
            "- Use a data structure that matches the device ordinal in the booster.\n",
            "- Set the device for booster before call to inplace_predict.\n",
            "\n",
            "This warning will only be shown once.\n",
            "\n",
            "  warnings.warn(smsg, UserWarning)\n"
          ]
        }
      ]
    },
    {
      "cell_type": "markdown",
      "source": [
        "In our case of identifying loan defaulters, both precision and recall held equal importance. Therefore, our approach aimed to improve both metrics while avoiding overfitting. This involved carefully selecting features, optimizing model parameters, and employing regularization techniques to achieve a balanced performance that minimized false positives and false negatives."
      ],
      "metadata": {
        "id": "gP-rCiI1ybTq"
      }
    },
    {
      "cell_type": "markdown",
      "source": [
        "# **Conclusion**"
      ],
      "metadata": {
        "id": "NpArFZqnzKg-"
      }
    },
    {
      "cell_type": "markdown",
      "source": [
        "Following hyperparameter tuning, the precision of the model notably improved, with a precision score of 0.9728. However, despite this enhancement, the accuracy and recall metrics slightly decreased compared to Extra Trees. Given the equal importance of accuracy, precision, and recall in our loan prediction task, we opt to prioritize the Extra Trees model over XGBoost post-hyperparameter tuning. This decision ensures a balanced consideration of all three metrics crucial for effective risk assessment and management."
      ],
      "metadata": {
        "id": "3pViBY5s1R28"
      }
    },
    {
      "cell_type": "markdown",
      "source": [
        "In our loan prediction analysis, we harnessed the power of Extra Trees, a robust ensemble learning technique. With a focus on accuracy, recall, and precision, our Extra Trees model demonstrated remarkable performance. It excelled in accurately identifying potential loan default scenarios while minimizing false positives and false negatives, thereby optimizing risk assessment and management strategies.\n",
        "\n",
        "📈 This successful integration of Extra Trees underscores the transformative impact of data-driven approaches in revolutionizing risk assessment and customer relationship management within the banking sector. 💼✨\n"
      ],
      "metadata": {
        "id": "Cj-auh4mzMra"
      }
    }
  ],
  "metadata": {
    "colab": {
      "provenance": [],
      "gpuType": "T4"
    },
    "kernelspec": {
      "display_name": "Python 3",
      "name": "python3"
    },
    "language_info": {
      "name": "python"
    },
    "accelerator": "GPU"
  },
  "nbformat": 4,
  "nbformat_minor": 0
}